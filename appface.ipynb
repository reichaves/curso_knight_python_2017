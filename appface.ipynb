{
 "cells": [
  {
   "cell_type": "code",
   "execution_count": 1,
   "metadata": {},
   "outputs": [],
   "source": [
    "ID_do_aplicativo = '173509603240311'"
   ]
  },
  {
   "cell_type": "code",
   "execution_count": 2,
   "metadata": {},
   "outputs": [],
   "source": [
    "chave = 'f9161dba93f653ccabfe38032f4851aa'"
   ]
  },
  {
   "cell_type": "code",
   "execution_count": 3,
   "metadata": {},
   "outputs": [],
   "source": [
    "token = ID_do_aplicativo + '|' + chave"
   ]
  },
  {
   "cell_type": "code",
   "execution_count": 4,
   "metadata": {},
   "outputs": [],
   "source": [
    "pagina = 'ONGReporterBrasil'"
   ]
  },
  {
   "cell_type": "code",
   "execution_count": 7,
   "metadata": {},
   "outputs": [],
   "source": [
    "url = f'https://graph.facebook.com/v2.11/{pagina}?access_token={token}'"
   ]
  },
  {
   "cell_type": "code",
   "execution_count": 8,
   "metadata": {},
   "outputs": [
    {
     "name": "stdout",
     "output_type": "stream",
     "text": [
      "https://graph.facebook.com/v2.11/ONGReporterBrasil?access_token=173509603240311|f9161dba93f653ccabfe38032f4851aa\n"
     ]
    }
   ],
   "source": [
    "print (url)"
   ]
  },
  {
   "cell_type": "code",
   "execution_count": 10,
   "metadata": {},
   "outputs": [],
   "source": [
    "reporter = {\n",
    "    \"name\" : \"Repórter Brasil\", \n",
    "    \"id\" : \"333367720015251\"\n",
    "}"
   ]
  },
  {
   "cell_type": "code",
   "execution_count": 12,
   "metadata": {},
   "outputs": [
    {
     "data": {
      "text/plain": [
       "'Repórter Brasil'"
      ]
     },
     "execution_count": 12,
     "metadata": {},
     "output_type": "execute_result"
    }
   ],
   "source": [
    "reporter['name']"
   ]
  },
  {
   "cell_type": "code",
   "execution_count": 13,
   "metadata": {},
   "outputs": [
    {
     "data": {
      "text/plain": [
       "{'id': '333367720015251', 'name': 'Repórter Brasil'}"
      ]
     },
     "execution_count": 13,
     "metadata": {},
     "output_type": "execute_result"
    }
   ],
   "source": [
    "reporter"
   ]
  },
  {
   "cell_type": "code",
   "execution_count": 15,
   "metadata": {},
   "outputs": [],
   "source": [
    "reporter = {\n",
    "    \n",
    "  \"about\": \"Jornalismo, documentários, pesquisa e educação. Denunciamos situações que ferem direitos trabalhistas e causam danos socioambientais.\",\n",
    "  \"app_links\": {\n",
    "    \"android\": [\n",
    "      {\n",
    "        \"app_name\": \"Facebook\",\n",
    "        \"package\": \"com.facebook.katana\",\n",
    "        \"url\": \"fb://page/333367720015251?referrer=app_link\"\n",
    "      }\n",
    "    ],\n",
    "    \"ios\": [\n",
    "      {\n",
    "        \"app_name\": \"Facebook\",\n",
    "        \"app_store_id\": \"284882215\",\n",
    "        \"url\": \"fb://page/?id=333367720015251\"\n",
    "      }\n",
    "    ]\n",
    "  },\n",
    "  \"id\": \"333367720015251\"\n",
    "\n",
    "}"
   ]
  },
  {
   "cell_type": "code",
   "execution_count": 16,
   "metadata": {},
   "outputs": [
    {
     "data": {
      "text/plain": [
       "{'about': 'Jornalismo, documentários, pesquisa e educação. Denunciamos situações que ferem direitos trabalhistas e causam danos socioambientais.',\n",
       " 'app_links': {'android': [{'app_name': 'Facebook',\n",
       "    'package': 'com.facebook.katana',\n",
       "    'url': 'fb://page/333367720015251?referrer=app_link'}],\n",
       "  'ios': [{'app_name': 'Facebook',\n",
       "    'app_store_id': '284882215',\n",
       "    'url': 'fb://page/?id=333367720015251'}]},\n",
       " 'id': '333367720015251'}"
      ]
     },
     "execution_count": 16,
     "metadata": {},
     "output_type": "execute_result"
    }
   ],
   "source": [
    "reporter"
   ]
  },
  {
   "cell_type": "code",
   "execution_count": null,
   "metadata": {},
   "outputs": [],
   "source": []
  },
  {
   "cell_type": "code",
   "execution_count": 20,
   "metadata": {},
   "outputs": [],
   "source": [
    "fields = 'about,fan_count,website'\n",
    "url = f'https://graph.facebook.com/v2.11/{pagina}?fields={fields}&access_token={token}'"
   ]
  },
  {
   "cell_type": "code",
   "execution_count": 19,
   "metadata": {},
   "outputs": [
    {
     "name": "stdout",
     "output_type": "stream",
     "text": [
      "https://graph.facebook.com/v2.11/ONGReporterBrasil?fields=about, fan_count, wesite&access_token=173509603240311|f9161dba93f653ccabfe38032f4851aa\n"
     ]
    }
   ],
   "source": [
    "print(url)"
   ]
  },
  {
   "cell_type": "code",
   "execution_count": null,
   "metadata": {},
   "outputs": [],
   "source": []
  }
 ],
 "metadata": {
  "kernelspec": {
   "display_name": "Python 3",
   "language": "python",
   "name": "python3"
  },
  "language_info": {
   "codemirror_mode": {
    "name": "ipython",
    "version": 3
   },
   "file_extension": ".py",
   "mimetype": "text/x-python",
   "name": "python",
   "nbconvert_exporter": "python",
   "pygments_lexer": "ipython3",
   "version": "3.6.2"
  }
 },
 "nbformat": 4,
 "nbformat_minor": 2
}
