{
 "cells": [
  {
   "cell_type": "code",
   "execution_count": null,
   "metadata": {},
   "outputs": [],
   "source": [
    "import csv"
   ]
  },
  {
   "cell_type": "code",
   "execution_count": null,
   "metadata": {},
   "outputs": [],
   "source": [
    "import collections"
   ]
  },
  {
   "cell_type": "code",
   "execution_count": null,
   "metadata": {},
   "outputs": [],
   "source": []
  },
  {
   "cell_type": "code",
   "execution_count": 40,
   "metadata": {},
   "outputs": [],
   "source": [
    "arquivo = open('politicos_outubro.csv', encoding = 'utf8')"
   ]
  },
  {
   "cell_type": "code",
   "execution_count": 41,
   "metadata": {},
   "outputs": [],
   "source": [
    "dicionario = csv.DictReader(arquivo)"
   ]
  },
  {
   "cell_type": "code",
   "execution_count": null,
   "metadata": {},
   "outputs": [],
   "source": []
  },
  {
   "cell_type": "code",
   "execution_count": 15,
   "metadata": {},
   "outputs": [],
   "source": [
    "total_posts = collections.Counter()"
   ]
  },
  {
   "cell_type": "code",
   "execution_count": null,
   "metadata": {},
   "outputs": [],
   "source": []
  },
  {
   "cell_type": "code",
   "execution_count": 42,
   "metadata": {},
   "outputs": [],
   "source": [
    "compartilhamentos_top = 0"
   ]
  },
  {
   "cell_type": "code",
   "execution_count": 43,
   "metadata": {},
   "outputs": [],
   "source": [
    "link_top = ''"
   ]
  },
  {
   "cell_type": "code",
   "execution_count": 44,
   "metadata": {},
   "outputs": [],
   "source": [
    "politico_top = ''"
   ]
  },
  {
   "cell_type": "code",
   "execution_count": null,
   "metadata": {},
   "outputs": [],
   "source": []
  },
  {
   "cell_type": "code",
   "execution_count": 30,
   "metadata": {},
   "outputs": [],
   "source": [
    "for linha in dicionario:\n",
    "    politico = linha['nome']\n",
    "    total_posts[politico] += 1"
   ]
  },
  {
   "cell_type": "code",
   "execution_count": 31,
   "metadata": {},
   "outputs": [
    {
     "data": {
      "text/plain": [
       "[('Fernando Holiday', 743),\n",
       " ('Fernando Francischini', 619),\n",
       " ('Alvaro Dias', 460),\n",
       " ('Major Olimpio', 340),\n",
       " ('Gleisi Hoffmann', 337),\n",
       " ('Lindbergh Farias', 335),\n",
       " ('Kim Kataguiri', 262),\n",
       " ('Lula', 250),\n",
       " ('Pastor Feliciano', 218),\n",
       " ('Rafael Greca', 209),\n",
       " ('Guilherme Boulos', 183),\n",
       " ('Marcelo Freixo', 177),\n",
       " ('Jean Wyllys', 171),\n",
       " ('Vanessa Grazziotin', 166),\n",
       " ('Magno Malta', 149),\n",
       " ('Nelson Marchezan Jr.', 144),\n",
       " ('Ana Amélia Lemos', 127),\n",
       " ('Randolfe Rodrigues', 127),\n",
       " ('Paulinho da Força', 117),\n",
       " ('Luciana Genro', 116),\n",
       " ('Ronaldo Caiado', 115),\n",
       " ('Beto Richa', 110),\n",
       " ('João Doria', 108),\n",
       " ('Jair Bolsonaro', 101),\n",
       " ('Geraldo Alckmin', 96),\n",
       " ('Rui Falcão', 95),\n",
       " (\"Manuela d'Ávila\", 93),\n",
       " ('Dilma Rousseff', 74),\n",
       " ('Ciro Gomes', 66),\n",
       " ('Deltan Dallagnol', 65),\n",
       " ('ACM Neto', 64),\n",
       " ('Alessandro Molon', 63),\n",
       " ('Paulo Paim', 63),\n",
       " ('Eunício Oliveira', 62),\n",
       " ('Marcelo Crivella', 56),\n",
       " ('Alberto Fraga', 55),\n",
       " ('Roberto Requião', 48),\n",
       " ('Rodrigo Maia', 35),\n",
       " ('Cristovam Buarque', 31),\n",
       " ('Marina Silva', 31),\n",
       " ('Antonio Anastasia', 30),\n",
       " ('Renan Calheiros', 27),\n",
       " ('Fernando Haddad', 27),\n",
       " ('Michel Temer', 26),\n",
       " ('Rosângela Wolff Moro', 18),\n",
       " ('Luciano Huck', 14),\n",
       " ('Onyx Lorenzoni', 11),\n",
       " ('José Serra', 6),\n",
       " ('Alexandre Kalil', 2)]"
      ]
     },
     "execution_count": 31,
     "metadata": {},
     "output_type": "execute_result"
    }
   ],
   "source": [
    "total_posts.most_common()"
   ]
  },
  {
   "cell_type": "code",
   "execution_count": null,
   "metadata": {},
   "outputs": [],
   "source": []
  },
  {
   "cell_type": "code",
   "execution_count": 45,
   "metadata": {},
   "outputs": [],
   "source": [
    "for linha in dicionario:\n",
    "    if int(linha['shares']) > compartilhamentos_top:\n",
    "        compartilhamentos_top = int(linha['shares'])\n",
    "        link_top = linha['fb_link']\n",
    "        politico_top = linha['nome']"
   ]
  },
  {
   "cell_type": "code",
   "execution_count": 47,
   "metadata": {},
   "outputs": [
    {
     "name": "stdout",
     "output_type": "stream",
     "text": [
      "O politico que bombou em outubro foi Pastor Feliciano, com 361796 compartilhamentos. Veja a postagem aqui: https://www.facebook.com/PastorMarcoFeliciano/videos/1132373336902684/\n"
     ]
    }
   ],
   "source": [
    "print(f'O politico que bombou em outubro foi {politico_top}, com {compartilhamentos_top} compartilhamentos. Veja a postagem aqui: {link_top}')"
   ]
  },
  {
   "cell_type": "code",
   "execution_count": null,
   "metadata": {},
   "outputs": [],
   "source": []
  },
  {
   "cell_type": "code",
   "execution_count": null,
   "metadata": {},
   "outputs": [],
   "source": []
  }
 ],
 "metadata": {
  "kernelspec": {
   "display_name": "Python 3",
   "language": "python",
   "name": "python3"
  },
  "language_info": {
   "codemirror_mode": {
    "name": "ipython",
    "version": 3
   },
   "file_extension": ".py",
   "mimetype": "text/x-python",
   "name": "python",
   "nbconvert_exporter": "python",
   "pygments_lexer": "ipython3",
   "version": "3.6.2"
  }
 },
 "nbformat": 4,
 "nbformat_minor": 2
}
