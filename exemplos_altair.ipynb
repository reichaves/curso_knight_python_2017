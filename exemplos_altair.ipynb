{
 "cells": [
  {
   "cell_type": "markdown",
   "metadata": {},
   "source": [
    "# Altair area chart examples\n",
    "\n",
    "### By Ben Welsh"
   ]
  },
  {
   "cell_type": "code",
   "execution_count": 1,
   "metadata": {},
   "outputs": [],
   "source": [
    "import altair as alt"
   ]
  },
  {
   "cell_type": "code",
   "execution_count": null,
   "metadata": {},
   "outputs": [],
   "source": []
  },
  {
   "cell_type": "code",
   "execution_count": null,
   "metadata": {},
   "outputs": [],
   "source": [
    "# Em seguida, trazemos nosso conjunto de dados de exemplo, que rastreia o mix de fontes de energia usadas para gerar eletricidade no estado de Iowa.\n",
    "\n",
    "# É fornecido pela U.S. Energy Information Administration através da biblioteca de conjuntos de dados de exemplo do projeto Vega."
   ]
  },
  {
   "cell_type": "code",
   "execution_count": 3,
   "metadata": {},
   "outputs": [],
   "source": [
    "import vega_datasets"
   ]
  },
  {
   "cell_type": "code",
   "execution_count": 4,
   "metadata": {},
   "outputs": [],
   "source": [
    "data = vega_datasets.data.iowa_electricity()"
   ]
  },
  {
   "cell_type": "code",
   "execution_count": 5,
   "metadata": {},
   "outputs": [
    {
     "data": {
      "text/html": [
       "<div>\n",
       "<style scoped>\n",
       "    .dataframe tbody tr th:only-of-type {\n",
       "        vertical-align: middle;\n",
       "    }\n",
       "\n",
       "    .dataframe tbody tr th {\n",
       "        vertical-align: top;\n",
       "    }\n",
       "\n",
       "    .dataframe thead th {\n",
       "        text-align: right;\n",
       "    }\n",
       "</style>\n",
       "<table border=\"1\" class=\"dataframe\">\n",
       "  <thead>\n",
       "    <tr style=\"text-align: right;\">\n",
       "      <th></th>\n",
       "      <th>year</th>\n",
       "      <th>source</th>\n",
       "      <th>net_generation</th>\n",
       "    </tr>\n",
       "  </thead>\n",
       "  <tbody>\n",
       "    <tr>\n",
       "      <th>0</th>\n",
       "      <td>2001-01-01</td>\n",
       "      <td>Fossil Fuels</td>\n",
       "      <td>35361</td>\n",
       "    </tr>\n",
       "    <tr>\n",
       "      <th>1</th>\n",
       "      <td>2002-01-01</td>\n",
       "      <td>Fossil Fuels</td>\n",
       "      <td>35991</td>\n",
       "    </tr>\n",
       "    <tr>\n",
       "      <th>2</th>\n",
       "      <td>2003-01-01</td>\n",
       "      <td>Fossil Fuels</td>\n",
       "      <td>36234</td>\n",
       "    </tr>\n",
       "    <tr>\n",
       "      <th>3</th>\n",
       "      <td>2004-01-01</td>\n",
       "      <td>Fossil Fuels</td>\n",
       "      <td>36205</td>\n",
       "    </tr>\n",
       "    <tr>\n",
       "      <th>4</th>\n",
       "      <td>2005-01-01</td>\n",
       "      <td>Fossil Fuels</td>\n",
       "      <td>36883</td>\n",
       "    </tr>\n",
       "  </tbody>\n",
       "</table>\n",
       "</div>"
      ],
      "text/plain": [
       "        year        source  net_generation\n",
       "0 2001-01-01  Fossil Fuels           35361\n",
       "1 2002-01-01  Fossil Fuels           35991\n",
       "2 2003-01-01  Fossil Fuels           36234\n",
       "3 2004-01-01  Fossil Fuels           36205\n",
       "4 2005-01-01  Fossil Fuels           36883"
      ]
     },
     "execution_count": 5,
     "metadata": {},
     "output_type": "execute_result"
    }
   ],
   "source": [
    "data.head()"
   ]
  },
  {
   "cell_type": "code",
   "execution_count": 8,
   "metadata": {},
   "outputs": [
    {
     "name": "stdout",
     "output_type": "stream",
     "text": [
      "<class 'pandas.core.frame.DataFrame'>\n",
      "RangeIndex: 51 entries, 0 to 50\n",
      "Data columns (total 3 columns):\n",
      "year              51 non-null datetime64[ns]\n",
      "source            51 non-null object\n",
      "net_generation    51 non-null int64\n",
      "dtypes: datetime64[ns](1), int64(1), object(1)\n",
      "memory usage: 1.3+ KB\n"
     ]
    }
   ],
   "source": [
    "data.info()"
   ]
  },
  {
   "cell_type": "markdown",
   "metadata": {},
   "source": [
    "'''Isso mostra que a participação da eletricidade de Iowa gerada por fontes renováveis, como a energia eólica, disparou nos últimos anos.\n",
    "\n",
    "Existem três fontes de eletricidade: combustíveis fósseis, energia nuclear e renováveis. Os números de geração líquida de cada fonte são reportados em milhares de megawatthours por ano. As datas estão codificadas no formato ISO.'''"
   ]
  },
  {
   "cell_type": "markdown",
   "metadata": {},
   "source": [
    "'''Essa última parte é importante. O Altair geralmente espera que o eixo x dos gráficos de área seja baseado em datas que ele pode codificar como dados \"temporais\". Se os dados com os quais você está trabalhando forem inteiros ou algo além dos datastamps, você precisará encontrar uma solução alternativa. Nós vamos chegar a isso mais tarde.\n",
    "\n",
    "Mas vamos fazer alguns gráficos, hein? Para começar, aqui está algo simples.'''"
   ]
  },
  {
   "cell_type": "markdown",
   "metadata": {},
   "source": [
    "# Stacked area chart"
   ]
  },
  {
   "cell_type": "code",
   "execution_count": 6,
   "metadata": {},
   "outputs": [
    {
     "data": {
      "application/vnd.vegalite.v2+json": {
       "$schema": "https://vega.github.io/schema/vega-lite/v2.4.3.json",
       "config": {
        "view": {
         "height": 300,
         "width": 400
        }
       },
       "data": {
        "values": [
         {
          "net_generation": 35361,
          "source": "Fossil Fuels",
          "year": "2001-01-01"
         },
         {
          "net_generation": 35991,
          "source": "Fossil Fuels",
          "year": "2002-01-01"
         },
         {
          "net_generation": 36234,
          "source": "Fossil Fuels",
          "year": "2003-01-01"
         },
         {
          "net_generation": 36205,
          "source": "Fossil Fuels",
          "year": "2004-01-01"
         },
         {
          "net_generation": 36883,
          "source": "Fossil Fuels",
          "year": "2005-01-01"
         },
         {
          "net_generation": 37014,
          "source": "Fossil Fuels",
          "year": "2006-01-01"
         },
         {
          "net_generation": 41389,
          "source": "Fossil Fuels",
          "year": "2007-01-01"
         },
         {
          "net_generation": 42734,
          "source": "Fossil Fuels",
          "year": "2008-01-01"
         },
         {
          "net_generation": 38620,
          "source": "Fossil Fuels",
          "year": "2009-01-01"
         },
         {
          "net_generation": 42750,
          "source": "Fossil Fuels",
          "year": "2010-01-01"
         },
         {
          "net_generation": 39361,
          "source": "Fossil Fuels",
          "year": "2011-01-01"
         },
         {
          "net_generation": 37379,
          "source": "Fossil Fuels",
          "year": "2012-01-01"
         },
         {
          "net_generation": 34873,
          "source": "Fossil Fuels",
          "year": "2013-01-01"
         },
         {
          "net_generation": 35250,
          "source": "Fossil Fuels",
          "year": "2014-01-01"
         },
         {
          "net_generation": 32319,
          "source": "Fossil Fuels",
          "year": "2015-01-01"
         },
         {
          "net_generation": 28437,
          "source": "Fossil Fuels",
          "year": "2016-01-01"
         },
         {
          "net_generation": 29329,
          "source": "Fossil Fuels",
          "year": "2017-01-01"
         },
         {
          "net_generation": 3853,
          "source": "Nuclear Energy",
          "year": "2001-01-01"
         },
         {
          "net_generation": 4574,
          "source": "Nuclear Energy",
          "year": "2002-01-01"
         },
         {
          "net_generation": 3988,
          "source": "Nuclear Energy",
          "year": "2003-01-01"
         },
         {
          "net_generation": 4929,
          "source": "Nuclear Energy",
          "year": "2004-01-01"
         },
         {
          "net_generation": 4538,
          "source": "Nuclear Energy",
          "year": "2005-01-01"
         },
         {
          "net_generation": 5095,
          "source": "Nuclear Energy",
          "year": "2006-01-01"
         },
         {
          "net_generation": 4519,
          "source": "Nuclear Energy",
          "year": "2007-01-01"
         },
         {
          "net_generation": 5282,
          "source": "Nuclear Energy",
          "year": "2008-01-01"
         },
         {
          "net_generation": 4679,
          "source": "Nuclear Energy",
          "year": "2009-01-01"
         },
         {
          "net_generation": 4451,
          "source": "Nuclear Energy",
          "year": "2010-01-01"
         },
         {
          "net_generation": 5215,
          "source": "Nuclear Energy",
          "year": "2011-01-01"
         },
         {
          "net_generation": 4347,
          "source": "Nuclear Energy",
          "year": "2012-01-01"
         },
         {
          "net_generation": 5321,
          "source": "Nuclear Energy",
          "year": "2013-01-01"
         },
         {
          "net_generation": 4152,
          "source": "Nuclear Energy",
          "year": "2014-01-01"
         },
         {
          "net_generation": 5243,
          "source": "Nuclear Energy",
          "year": "2015-01-01"
         },
         {
          "net_generation": 4703,
          "source": "Nuclear Energy",
          "year": "2016-01-01"
         },
         {
          "net_generation": 5214,
          "source": "Nuclear Energy",
          "year": "2017-01-01"
         },
         {
          "net_generation": 1437,
          "source": "Renewables",
          "year": "2001-01-01"
         },
         {
          "net_generation": 1963,
          "source": "Renewables",
          "year": "2002-01-01"
         },
         {
          "net_generation": 1885,
          "source": "Renewables",
          "year": "2003-01-01"
         },
         {
          "net_generation": 2102,
          "source": "Renewables",
          "year": "2004-01-01"
         },
         {
          "net_generation": 2724,
          "source": "Renewables",
          "year": "2005-01-01"
         },
         {
          "net_generation": 3364,
          "source": "Renewables",
          "year": "2006-01-01"
         },
         {
          "net_generation": 3870,
          "source": "Renewables",
          "year": "2007-01-01"
         },
         {
          "net_generation": 5070,
          "source": "Renewables",
          "year": "2008-01-01"
         },
         {
          "net_generation": 8560,
          "source": "Renewables",
          "year": "2009-01-01"
         },
         {
          "net_generation": 10308,
          "source": "Renewables",
          "year": "2010-01-01"
         },
         {
          "net_generation": 11795,
          "source": "Renewables",
          "year": "2011-01-01"
         },
         {
          "net_generation": 14949,
          "source": "Renewables",
          "year": "2012-01-01"
         },
         {
          "net_generation": 16476,
          "source": "Renewables",
          "year": "2013-01-01"
         },
         {
          "net_generation": 17452,
          "source": "Renewables",
          "year": "2014-01-01"
         },
         {
          "net_generation": 19091,
          "source": "Renewables",
          "year": "2015-01-01"
         },
         {
          "net_generation": 21241,
          "source": "Renewables",
          "year": "2016-01-01"
         },
         {
          "net_generation": 21933,
          "source": "Renewables",
          "year": "2017-01-01"
         }
        ]
       },
       "encoding": {
        "color": {
         "field": "source",
         "type": "nominal"
        },
        "x": {
         "field": "year",
         "type": "temporal"
        },
        "y": {
         "field": "net_generation",
         "type": "quantitative"
        }
       },
       "mark": "area"
      },
      "image/png": "[encoded data removed]",
      "text/plain": [
       "<VegaLite 2 object>\n",
       "\n",
       "If you see this message, it means the renderer has not been properly enabled\n",
       "for the frontend that you are using. For more information, see\n",
       "https://altair-viz.github.io/user_guide/troubleshooting.html\n"
      ]
     },
     "execution_count": 6,
     "metadata": {},
     "output_type": "execute_result"
    }
   ],
   "source": [
    "alt.Chart(data).mark_area().encode(\n",
    "    x=\"year:T\",\n",
    "    y=\"net_generation:Q\",\n",
    "    color=\"source:N\"\n",
    ")"
   ]
  },
  {
   "cell_type": "code",
   "execution_count": 7,
   "metadata": {},
   "outputs": [],
   "source": [
    "# Isso mostra o aumento absoluto das energias renováveis. Mas e quanto a uma parte? É aí que entra a opção \"normalizar\"."
   ]
  },
  {
   "cell_type": "markdown",
   "metadata": {},
   "source": [
    "# Normalized stacked area chart"
   ]
  },
  {
   "cell_type": "code",
   "execution_count": 9,
   "metadata": {},
   "outputs": [
    {
     "data": {
      "application/vnd.vegalite.v2+json": {
       "$schema": "https://vega.github.io/schema/vega-lite/v2.4.3.json",
       "config": {
        "view": {
         "height": 300,
         "width": 400
        }
       },
       "data": {
        "values": [
         {
          "net_generation": 35361,
          "source": "Fossil Fuels",
          "year": "2001-01-01"
         },
         {
          "net_generation": 35991,
          "source": "Fossil Fuels",
          "year": "2002-01-01"
         },
         {
          "net_generation": 36234,
          "source": "Fossil Fuels",
          "year": "2003-01-01"
         },
         {
          "net_generation": 36205,
          "source": "Fossil Fuels",
          "year": "2004-01-01"
         },
         {
          "net_generation": 36883,
          "source": "Fossil Fuels",
          "year": "2005-01-01"
         },
         {
          "net_generation": 37014,
          "source": "Fossil Fuels",
          "year": "2006-01-01"
         },
         {
          "net_generation": 41389,
          "source": "Fossil Fuels",
          "year": "2007-01-01"
         },
         {
          "net_generation": 42734,
          "source": "Fossil Fuels",
          "year": "2008-01-01"
         },
         {
          "net_generation": 38620,
          "source": "Fossil Fuels",
          "year": "2009-01-01"
         },
         {
          "net_generation": 42750,
          "source": "Fossil Fuels",
          "year": "2010-01-01"
         },
         {
          "net_generation": 39361,
          "source": "Fossil Fuels",
          "year": "2011-01-01"
         },
         {
          "net_generation": 37379,
          "source": "Fossil Fuels",
          "year": "2012-01-01"
         },
         {
          "net_generation": 34873,
          "source": "Fossil Fuels",
          "year": "2013-01-01"
         },
         {
          "net_generation": 35250,
          "source": "Fossil Fuels",
          "year": "2014-01-01"
         },
         {
          "net_generation": 32319,
          "source": "Fossil Fuels",
          "year": "2015-01-01"
         },
         {
          "net_generation": 28437,
          "source": "Fossil Fuels",
          "year": "2016-01-01"
         },
         {
          "net_generation": 29329,
          "source": "Fossil Fuels",
          "year": "2017-01-01"
         },
         {
          "net_generation": 3853,
          "source": "Nuclear Energy",
          "year": "2001-01-01"
         },
         {
          "net_generation": 4574,
          "source": "Nuclear Energy",
          "year": "2002-01-01"
         },
         {
          "net_generation": 3988,
          "source": "Nuclear Energy",
          "year": "2003-01-01"
         },
         {
          "net_generation": 4929,
          "source": "Nuclear Energy",
          "year": "2004-01-01"
         },
         {
          "net_generation": 4538,
          "source": "Nuclear Energy",
          "year": "2005-01-01"
         },
         {
          "net_generation": 5095,
          "source": "Nuclear Energy",
          "year": "2006-01-01"
         },
         {
          "net_generation": 4519,
          "source": "Nuclear Energy",
          "year": "2007-01-01"
         },
         {
          "net_generation": 5282,
          "source": "Nuclear Energy",
          "year": "2008-01-01"
         },
         {
          "net_generation": 4679,
          "source": "Nuclear Energy",
          "year": "2009-01-01"
         },
         {
          "net_generation": 4451,
          "source": "Nuclear Energy",
          "year": "2010-01-01"
         },
         {
          "net_generation": 5215,
          "source": "Nuclear Energy",
          "year": "2011-01-01"
         },
         {
          "net_generation": 4347,
          "source": "Nuclear Energy",
          "year": "2012-01-01"
         },
         {
          "net_generation": 5321,
          "source": "Nuclear Energy",
          "year": "2013-01-01"
         },
         {
          "net_generation": 4152,
          "source": "Nuclear Energy",
          "year": "2014-01-01"
         },
         {
          "net_generation": 5243,
          "source": "Nuclear Energy",
          "year": "2015-01-01"
         },
         {
          "net_generation": 4703,
          "source": "Nuclear Energy",
          "year": "2016-01-01"
         },
         {
          "net_generation": 5214,
          "source": "Nuclear Energy",
          "year": "2017-01-01"
         },
         {
          "net_generation": 1437,
          "source": "Renewables",
          "year": "2001-01-01"
         },
         {
          "net_generation": 1963,
          "source": "Renewables",
          "year": "2002-01-01"
         },
         {
          "net_generation": 1885,
          "source": "Renewables",
          "year": "2003-01-01"
         },
         {
          "net_generation": 2102,
          "source": "Renewables",
          "year": "2004-01-01"
         },
         {
          "net_generation": 2724,
          "source": "Renewables",
          "year": "2005-01-01"
         },
         {
          "net_generation": 3364,
          "source": "Renewables",
          "year": "2006-01-01"
         },
         {
          "net_generation": 3870,
          "source": "Renewables",
          "year": "2007-01-01"
         },
         {
          "net_generation": 5070,
          "source": "Renewables",
          "year": "2008-01-01"
         },
         {
          "net_generation": 8560,
          "source": "Renewables",
          "year": "2009-01-01"
         },
         {
          "net_generation": 10308,
          "source": "Renewables",
          "year": "2010-01-01"
         },
         {
          "net_generation": 11795,
          "source": "Renewables",
          "year": "2011-01-01"
         },
         {
          "net_generation": 14949,
          "source": "Renewables",
          "year": "2012-01-01"
         },
         {
          "net_generation": 16476,
          "source": "Renewables",
          "year": "2013-01-01"
         },
         {
          "net_generation": 17452,
          "source": "Renewables",
          "year": "2014-01-01"
         },
         {
          "net_generation": 19091,
          "source": "Renewables",
          "year": "2015-01-01"
         },
         {
          "net_generation": 21241,
          "source": "Renewables",
          "year": "2016-01-01"
         },
         {
          "net_generation": 21933,
          "source": "Renewables",
          "year": "2017-01-01"
         }
        ]
       },
       "encoding": {
        "color": {
         "field": "source",
         "type": "nominal"
        },
        "x": {
         "field": "year",
         "type": "temporal"
        },
        "y": {
         "field": "net_generation",
         "stack": "normalize",
         "type": "quantitative"
        }
       },
       "mark": "area"
      },
      "image/png": "[encoded data removed]",
      "text/plain": [
       "<VegaLite 2 object>\n",
       "\n",
       "If you see this message, it means the renderer has not been properly enabled\n",
       "for the frontend that you are using. For more information, see\n",
       "https://altair-viz.github.io/user_guide/troubleshooting.html\n"
      ]
     },
     "execution_count": 9,
     "metadata": {},
     "output_type": "execute_result"
    }
   ],
   "source": [
    "alt.Chart(data).mark_area().encode(\n",
    "    x=\"year:T\",\n",
    "    y=alt.Y(\"net_generation:Q\", stack=\"normalize\"),\n",
    "    color=\"source:N\"\n",
    ")"
   ]
  },
  {
   "cell_type": "markdown",
   "metadata": {},
   "source": [
    "Acha um pouco difícil de ler? Você pode sobrepor as áreas umas sobre as outras removendo a pilha e diminuindo a opacidade."
   ]
  },
  {
   "cell_type": "markdown",
   "metadata": {},
   "source": [
    "# Layered area chart"
   ]
  },
  {
   "cell_type": "code",
   "execution_count": 10,
   "metadata": {},
   "outputs": [
    {
     "data": {
      "application/vnd.vegalite.v2+json": {
       "$schema": "https://vega.github.io/schema/vega-lite/v2.4.3.json",
       "config": {
        "view": {
         "height": 300,
         "width": 400
        }
       },
       "data": {
        "values": [
         {
          "net_generation": 35361,
          "source": "Fossil Fuels",
          "year": "2001-01-01"
         },
         {
          "net_generation": 35991,
          "source": "Fossil Fuels",
          "year": "2002-01-01"
         },
         {
          "net_generation": 36234,
          "source": "Fossil Fuels",
          "year": "2003-01-01"
         },
         {
          "net_generation": 36205,
          "source": "Fossil Fuels",
          "year": "2004-01-01"
         },
         {
          "net_generation": 36883,
          "source": "Fossil Fuels",
          "year": "2005-01-01"
         },
         {
          "net_generation": 37014,
          "source": "Fossil Fuels",
          "year": "2006-01-01"
         },
         {
          "net_generation": 41389,
          "source": "Fossil Fuels",
          "year": "2007-01-01"
         },
         {
          "net_generation": 42734,
          "source": "Fossil Fuels",
          "year": "2008-01-01"
         },
         {
          "net_generation": 38620,
          "source": "Fossil Fuels",
          "year": "2009-01-01"
         },
         {
          "net_generation": 42750,
          "source": "Fossil Fuels",
          "year": "2010-01-01"
         },
         {
          "net_generation": 39361,
          "source": "Fossil Fuels",
          "year": "2011-01-01"
         },
         {
          "net_generation": 37379,
          "source": "Fossil Fuels",
          "year": "2012-01-01"
         },
         {
          "net_generation": 34873,
          "source": "Fossil Fuels",
          "year": "2013-01-01"
         },
         {
          "net_generation": 35250,
          "source": "Fossil Fuels",
          "year": "2014-01-01"
         },
         {
          "net_generation": 32319,
          "source": "Fossil Fuels",
          "year": "2015-01-01"
         },
         {
          "net_generation": 28437,
          "source": "Fossil Fuels",
          "year": "2016-01-01"
         },
         {
          "net_generation": 29329,
          "source": "Fossil Fuels",
          "year": "2017-01-01"
         },
         {
          "net_generation": 3853,
          "source": "Nuclear Energy",
          "year": "2001-01-01"
         },
         {
          "net_generation": 4574,
          "source": "Nuclear Energy",
          "year": "2002-01-01"
         },
         {
          "net_generation": 3988,
          "source": "Nuclear Energy",
          "year": "2003-01-01"
         },
         {
          "net_generation": 4929,
          "source": "Nuclear Energy",
          "year": "2004-01-01"
         },
         {
          "net_generation": 4538,
          "source": "Nuclear Energy",
          "year": "2005-01-01"
         },
         {
          "net_generation": 5095,
          "source": "Nuclear Energy",
          "year": "2006-01-01"
         },
         {
          "net_generation": 4519,
          "source": "Nuclear Energy",
          "year": "2007-01-01"
         },
         {
          "net_generation": 5282,
          "source": "Nuclear Energy",
          "year": "2008-01-01"
         },
         {
          "net_generation": 4679,
          "source": "Nuclear Energy",
          "year": "2009-01-01"
         },
         {
          "net_generation": 4451,
          "source": "Nuclear Energy",
          "year": "2010-01-01"
         },
         {
          "net_generation": 5215,
          "source": "Nuclear Energy",
          "year": "2011-01-01"
         },
         {
          "net_generation": 4347,
          "source": "Nuclear Energy",
          "year": "2012-01-01"
         },
         {
          "net_generation": 5321,
          "source": "Nuclear Energy",
          "year": "2013-01-01"
         },
         {
          "net_generation": 4152,
          "source": "Nuclear Energy",
          "year": "2014-01-01"
         },
         {
          "net_generation": 5243,
          "source": "Nuclear Energy",
          "year": "2015-01-01"
         },
         {
          "net_generation": 4703,
          "source": "Nuclear Energy",
          "year": "2016-01-01"
         },
         {
          "net_generation": 5214,
          "source": "Nuclear Energy",
          "year": "2017-01-01"
         },
         {
          "net_generation": 1437,
          "source": "Renewables",
          "year": "2001-01-01"
         },
         {
          "net_generation": 1963,
          "source": "Renewables",
          "year": "2002-01-01"
         },
         {
          "net_generation": 1885,
          "source": "Renewables",
          "year": "2003-01-01"
         },
         {
          "net_generation": 2102,
          "source": "Renewables",
          "year": "2004-01-01"
         },
         {
          "net_generation": 2724,
          "source": "Renewables",
          "year": "2005-01-01"
         },
         {
          "net_generation": 3364,
          "source": "Renewables",
          "year": "2006-01-01"
         },
         {
          "net_generation": 3870,
          "source": "Renewables",
          "year": "2007-01-01"
         },
         {
          "net_generation": 5070,
          "source": "Renewables",
          "year": "2008-01-01"
         },
         {
          "net_generation": 8560,
          "source": "Renewables",
          "year": "2009-01-01"
         },
         {
          "net_generation": 10308,
          "source": "Renewables",
          "year": "2010-01-01"
         },
         {
          "net_generation": 11795,
          "source": "Renewables",
          "year": "2011-01-01"
         },
         {
          "net_generation": 14949,
          "source": "Renewables",
          "year": "2012-01-01"
         },
         {
          "net_generation": 16476,
          "source": "Renewables",
          "year": "2013-01-01"
         },
         {
          "net_generation": 17452,
          "source": "Renewables",
          "year": "2014-01-01"
         },
         {
          "net_generation": 19091,
          "source": "Renewables",
          "year": "2015-01-01"
         },
         {
          "net_generation": 21241,
          "source": "Renewables",
          "year": "2016-01-01"
         },
         {
          "net_generation": 21933,
          "source": "Renewables",
          "year": "2017-01-01"
         }
        ]
       },
       "encoding": {
        "color": {
         "field": "source",
         "type": "nominal"
        },
        "x": {
         "field": "year",
         "type": "temporal"
        },
        "y": {
         "field": "net_generation",
         "stack": null,
         "type": "quantitative"
        }
       },
       "mark": {
        "opacity": 0.3,
        "type": "area"
       }
      },
      "image/png": "[encoded data removed]",
      "text/plain": [
       "<VegaLite 2 object>\n",
       "\n",
       "If you see this message, it means the renderer has not been properly enabled\n",
       "for the frontend that you are using. For more information, see\n",
       "https://altair-viz.github.io/user_guide/troubleshooting.html\n"
      ]
     },
     "execution_count": 10,
     "metadata": {},
     "output_type": "execute_result"
    }
   ],
   "source": [
    "alt.Chart(data).mark_area(opacity=0.3).encode(\n",
    "    x=\"year:T\",\n",
    "    y=alt.Y(\"net_generation:Q\", stack=None),\n",
    "    color=\"source:N\"\n",
    ")"
   ]
  },
  {
   "cell_type": "markdown",
   "metadata": {},
   "source": [
    "Você preferiria ter pequenos muliples para comparar os gráficos lado a lado? Fácil. Use a opção de linha."
   ]
  },
  {
   "cell_type": "markdown",
   "metadata": {},
   "source": [
    "# Trellis area chart"
   ]
  },
  {
   "cell_type": "code",
   "execution_count": 11,
   "metadata": {},
   "outputs": [
    {
     "data": {
      "application/vnd.vegalite.v2+json": {
       "$schema": "https://vega.github.io/schema/vega-lite/v2.4.3.json",
       "config": {
        "view": {
         "height": 300,
         "width": 400
        }
       },
       "data": {
        "values": [
         {
          "net_generation": 35361,
          "source": "Fossil Fuels",
          "year": "2001-01-01"
         },
         {
          "net_generation": 35991,
          "source": "Fossil Fuels",
          "year": "2002-01-01"
         },
         {
          "net_generation": 36234,
          "source": "Fossil Fuels",
          "year": "2003-01-01"
         },
         {
          "net_generation": 36205,
          "source": "Fossil Fuels",
          "year": "2004-01-01"
         },
         {
          "net_generation": 36883,
          "source": "Fossil Fuels",
          "year": "2005-01-01"
         },
         {
          "net_generation": 37014,
          "source": "Fossil Fuels",
          "year": "2006-01-01"
         },
         {
          "net_generation": 41389,
          "source": "Fossil Fuels",
          "year": "2007-01-01"
         },
         {
          "net_generation": 42734,
          "source": "Fossil Fuels",
          "year": "2008-01-01"
         },
         {
          "net_generation": 38620,
          "source": "Fossil Fuels",
          "year": "2009-01-01"
         },
         {
          "net_generation": 42750,
          "source": "Fossil Fuels",
          "year": "2010-01-01"
         },
         {
          "net_generation": 39361,
          "source": "Fossil Fuels",
          "year": "2011-01-01"
         },
         {
          "net_generation": 37379,
          "source": "Fossil Fuels",
          "year": "2012-01-01"
         },
         {
          "net_generation": 34873,
          "source": "Fossil Fuels",
          "year": "2013-01-01"
         },
         {
          "net_generation": 35250,
          "source": "Fossil Fuels",
          "year": "2014-01-01"
         },
         {
          "net_generation": 32319,
          "source": "Fossil Fuels",
          "year": "2015-01-01"
         },
         {
          "net_generation": 28437,
          "source": "Fossil Fuels",
          "year": "2016-01-01"
         },
         {
          "net_generation": 29329,
          "source": "Fossil Fuels",
          "year": "2017-01-01"
         },
         {
          "net_generation": 3853,
          "source": "Nuclear Energy",
          "year": "2001-01-01"
         },
         {
          "net_generation": 4574,
          "source": "Nuclear Energy",
          "year": "2002-01-01"
         },
         {
          "net_generation": 3988,
          "source": "Nuclear Energy",
          "year": "2003-01-01"
         },
         {
          "net_generation": 4929,
          "source": "Nuclear Energy",
          "year": "2004-01-01"
         },
         {
          "net_generation": 4538,
          "source": "Nuclear Energy",
          "year": "2005-01-01"
         },
         {
          "net_generation": 5095,
          "source": "Nuclear Energy",
          "year": "2006-01-01"
         },
         {
          "net_generation": 4519,
          "source": "Nuclear Energy",
          "year": "2007-01-01"
         },
         {
          "net_generation": 5282,
          "source": "Nuclear Energy",
          "year": "2008-01-01"
         },
         {
          "net_generation": 4679,
          "source": "Nuclear Energy",
          "year": "2009-01-01"
         },
         {
          "net_generation": 4451,
          "source": "Nuclear Energy",
          "year": "2010-01-01"
         },
         {
          "net_generation": 5215,
          "source": "Nuclear Energy",
          "year": "2011-01-01"
         },
         {
          "net_generation": 4347,
          "source": "Nuclear Energy",
          "year": "2012-01-01"
         },
         {
          "net_generation": 5321,
          "source": "Nuclear Energy",
          "year": "2013-01-01"
         },
         {
          "net_generation": 4152,
          "source": "Nuclear Energy",
          "year": "2014-01-01"
         },
         {
          "net_generation": 5243,
          "source": "Nuclear Energy",
          "year": "2015-01-01"
         },
         {
          "net_generation": 4703,
          "source": "Nuclear Energy",
          "year": "2016-01-01"
         },
         {
          "net_generation": 5214,
          "source": "Nuclear Energy",
          "year": "2017-01-01"
         },
         {
          "net_generation": 1437,
          "source": "Renewables",
          "year": "2001-01-01"
         },
         {
          "net_generation": 1963,
          "source": "Renewables",
          "year": "2002-01-01"
         },
         {
          "net_generation": 1885,
          "source": "Renewables",
          "year": "2003-01-01"
         },
         {
          "net_generation": 2102,
          "source": "Renewables",
          "year": "2004-01-01"
         },
         {
          "net_generation": 2724,
          "source": "Renewables",
          "year": "2005-01-01"
         },
         {
          "net_generation": 3364,
          "source": "Renewables",
          "year": "2006-01-01"
         },
         {
          "net_generation": 3870,
          "source": "Renewables",
          "year": "2007-01-01"
         },
         {
          "net_generation": 5070,
          "source": "Renewables",
          "year": "2008-01-01"
         },
         {
          "net_generation": 8560,
          "source": "Renewables",
          "year": "2009-01-01"
         },
         {
          "net_generation": 10308,
          "source": "Renewables",
          "year": "2010-01-01"
         },
         {
          "net_generation": 11795,
          "source": "Renewables",
          "year": "2011-01-01"
         },
         {
          "net_generation": 14949,
          "source": "Renewables",
          "year": "2012-01-01"
         },
         {
          "net_generation": 16476,
          "source": "Renewables",
          "year": "2013-01-01"
         },
         {
          "net_generation": 17452,
          "source": "Renewables",
          "year": "2014-01-01"
         },
         {
          "net_generation": 19091,
          "source": "Renewables",
          "year": "2015-01-01"
         },
         {
          "net_generation": 21241,
          "source": "Renewables",
          "year": "2016-01-01"
         },
         {
          "net_generation": 21933,
          "source": "Renewables",
          "year": "2017-01-01"
         }
        ]
       },
       "encoding": {
        "color": {
         "field": "source",
         "type": "nominal"
        },
        "row": {
         "field": "source",
         "type": "nominal"
        },
        "x": {
         "field": "year",
         "type": "temporal"
        },
        "y": {
         "field": "net_generation",
         "type": "quantitative"
        }
       },
       "mark": "area"
      },
      "image/png": "[encoded data removed]",
      "text/plain": [
       "<VegaLite 2 object>\n",
       "\n",
       "If you see this message, it means the renderer has not been properly enabled\n",
       "for the frontend that you are using. For more information, see\n",
       "https://altair-viz.github.io/user_guide/troubleshooting.html\n"
      ]
     },
     "execution_count": 11,
     "metadata": {},
     "output_type": "execute_result"
    }
   ],
   "source": [
    "alt.Chart(data).mark_area().encode(\n",
    "    x=\"year:T\",\n",
    "    y=\"net_generation:Q\",\n",
    "    color=\"source:N\",\n",
    "    row=\"source:N\"\n",
    ")"
   ]
  },
  {
   "cell_type": "markdown",
   "metadata": {},
   "source": [
    "Depois de experimentar todos esses exemplos, acho que o normalizado conta nossa história da maneira mais clara e compacta. Veja como usar as outras opções do Altair para limpá-lo e prepará-lo para publicação."
   ]
  },
  {
   "cell_type": "markdown",
   "metadata": {},
   "source": [
    "# Normalized stacked area chart, manicured"
   ]
  },
  {
   "cell_type": "code",
   "execution_count": 12,
   "metadata": {},
   "outputs": [
    {
     "data": {
      "application/vnd.vegalite.v2+json": {
       "$schema": "https://vega.github.io/schema/vega-lite/v2.4.3.json",
       "config": {
        "view": {
         "height": 300,
         "width": 400
        }
       },
       "data": {
        "values": [
         {
          "net_generation": 35361,
          "source": "Fossil Fuels",
          "year": "2001-01-01"
         },
         {
          "net_generation": 35991,
          "source": "Fossil Fuels",
          "year": "2002-01-01"
         },
         {
          "net_generation": 36234,
          "source": "Fossil Fuels",
          "year": "2003-01-01"
         },
         {
          "net_generation": 36205,
          "source": "Fossil Fuels",
          "year": "2004-01-01"
         },
         {
          "net_generation": 36883,
          "source": "Fossil Fuels",
          "year": "2005-01-01"
         },
         {
          "net_generation": 37014,
          "source": "Fossil Fuels",
          "year": "2006-01-01"
         },
         {
          "net_generation": 41389,
          "source": "Fossil Fuels",
          "year": "2007-01-01"
         },
         {
          "net_generation": 42734,
          "source": "Fossil Fuels",
          "year": "2008-01-01"
         },
         {
          "net_generation": 38620,
          "source": "Fossil Fuels",
          "year": "2009-01-01"
         },
         {
          "net_generation": 42750,
          "source": "Fossil Fuels",
          "year": "2010-01-01"
         },
         {
          "net_generation": 39361,
          "source": "Fossil Fuels",
          "year": "2011-01-01"
         },
         {
          "net_generation": 37379,
          "source": "Fossil Fuels",
          "year": "2012-01-01"
         },
         {
          "net_generation": 34873,
          "source": "Fossil Fuels",
          "year": "2013-01-01"
         },
         {
          "net_generation": 35250,
          "source": "Fossil Fuels",
          "year": "2014-01-01"
         },
         {
          "net_generation": 32319,
          "source": "Fossil Fuels",
          "year": "2015-01-01"
         },
         {
          "net_generation": 28437,
          "source": "Fossil Fuels",
          "year": "2016-01-01"
         },
         {
          "net_generation": 29329,
          "source": "Fossil Fuels",
          "year": "2017-01-01"
         },
         {
          "net_generation": 3853,
          "source": "Nuclear Energy",
          "year": "2001-01-01"
         },
         {
          "net_generation": 4574,
          "source": "Nuclear Energy",
          "year": "2002-01-01"
         },
         {
          "net_generation": 3988,
          "source": "Nuclear Energy",
          "year": "2003-01-01"
         },
         {
          "net_generation": 4929,
          "source": "Nuclear Energy",
          "year": "2004-01-01"
         },
         {
          "net_generation": 4538,
          "source": "Nuclear Energy",
          "year": "2005-01-01"
         },
         {
          "net_generation": 5095,
          "source": "Nuclear Energy",
          "year": "2006-01-01"
         },
         {
          "net_generation": 4519,
          "source": "Nuclear Energy",
          "year": "2007-01-01"
         },
         {
          "net_generation": 5282,
          "source": "Nuclear Energy",
          "year": "2008-01-01"
         },
         {
          "net_generation": 4679,
          "source": "Nuclear Energy",
          "year": "2009-01-01"
         },
         {
          "net_generation": 4451,
          "source": "Nuclear Energy",
          "year": "2010-01-01"
         },
         {
          "net_generation": 5215,
          "source": "Nuclear Energy",
          "year": "2011-01-01"
         },
         {
          "net_generation": 4347,
          "source": "Nuclear Energy",
          "year": "2012-01-01"
         },
         {
          "net_generation": 5321,
          "source": "Nuclear Energy",
          "year": "2013-01-01"
         },
         {
          "net_generation": 4152,
          "source": "Nuclear Energy",
          "year": "2014-01-01"
         },
         {
          "net_generation": 5243,
          "source": "Nuclear Energy",
          "year": "2015-01-01"
         },
         {
          "net_generation": 4703,
          "source": "Nuclear Energy",
          "year": "2016-01-01"
         },
         {
          "net_generation": 5214,
          "source": "Nuclear Energy",
          "year": "2017-01-01"
         },
         {
          "net_generation": 1437,
          "source": "Renewables",
          "year": "2001-01-01"
         },
         {
          "net_generation": 1963,
          "source": "Renewables",
          "year": "2002-01-01"
         },
         {
          "net_generation": 1885,
          "source": "Renewables",
          "year": "2003-01-01"
         },
         {
          "net_generation": 2102,
          "source": "Renewables",
          "year": "2004-01-01"
         },
         {
          "net_generation": 2724,
          "source": "Renewables",
          "year": "2005-01-01"
         },
         {
          "net_generation": 3364,
          "source": "Renewables",
          "year": "2006-01-01"
         },
         {
          "net_generation": 3870,
          "source": "Renewables",
          "year": "2007-01-01"
         },
         {
          "net_generation": 5070,
          "source": "Renewables",
          "year": "2008-01-01"
         },
         {
          "net_generation": 8560,
          "source": "Renewables",
          "year": "2009-01-01"
         },
         {
          "net_generation": 10308,
          "source": "Renewables",
          "year": "2010-01-01"
         },
         {
          "net_generation": 11795,
          "source": "Renewables",
          "year": "2011-01-01"
         },
         {
          "net_generation": 14949,
          "source": "Renewables",
          "year": "2012-01-01"
         },
         {
          "net_generation": 16476,
          "source": "Renewables",
          "year": "2013-01-01"
         },
         {
          "net_generation": 17452,
          "source": "Renewables",
          "year": "2014-01-01"
         },
         {
          "net_generation": 19091,
          "source": "Renewables",
          "year": "2015-01-01"
         },
         {
          "net_generation": 21241,
          "source": "Renewables",
          "year": "2016-01-01"
         },
         {
          "net_generation": 21933,
          "source": "Renewables",
          "year": "2017-01-01"
         }
        ]
       },
       "encoding": {
        "color": {
         "field": "source",
         "legend": {
          "title": "Electricity source"
         },
         "type": "nominal"
        },
        "x": {
         "axis": {
          "title": "Year"
         },
         "field": "year",
         "timeUnit": "year",
         "type": "temporal"
        },
        "y": {
         "axis": {
          "format": ".0%",
          "title": "Share of net generation"
         },
         "field": "net_generation",
         "stack": "normalize",
         "type": "quantitative"
        }
       },
       "mark": "area",
       "title": "Iowa's renewable energy boom"
      },
      "image/png": "[encoded data removed]",
      "text/plain": [
       "<VegaLite 2 object>\n",
       "\n",
       "If you see this message, it means the renderer has not been properly enabled\n",
       "for the frontend that you are using. For more information, see\n",
       "https://altair-viz.github.io/user_guide/troubleshooting.html\n"
      ]
     },
     "execution_count": 12,
     "metadata": {},
     "output_type": "execute_result"
    }
   ],
   "source": [
    "alt.Chart(\n",
    "    data,\n",
    "    title=\"Iowa's renewable energy boom\"  # Name it\n",
    ").mark_area().encode(\n",
    "    x=alt.X(\n",
    "        \"year:T\",\n",
    "        timeUnit=\"year\",  # Fix the X ticks by setting the time unit to display\n",
    "        axis=alt.Axis(title=\"Year\")  # Clean up the X label \n",
    "    ),\n",
    "    y=alt.Y(\n",
    "        \"net_generation:Q\",\n",
    "        stack=\"normalize\",\n",
    "        axis=alt.Axis(title=\"Share of net generation\", format=\".0%\"),  # Set the Y ticks to %\n",
    "    ),\n",
    "    color=alt.Color(\n",
    "        \"source:N\",\n",
    "        legend=alt.Legend(title=\"Electricity source\"),  # Clean up the legend title\n",
    "    )\n",
    ")"
   ]
  },
  {
   "cell_type": "markdown",
   "metadata": {},
   "source": [
    "# E aqueles outros formatos de data novamente?"
   ]
  },
  {
   "cell_type": "markdown",
   "metadata": {},
   "source": [
    "Muitos conjuntos de dados anuais, especialmente os do governo dos EUA, tendem a liberar os dados como números inteiros, em vez de dados. O que você obtém normalmente parece um pouco mais com isso."
   ]
  },
  {
   "cell_type": "code",
   "execution_count": 13,
   "metadata": {},
   "outputs": [],
   "source": [
    "data.year = data.year.dt.year"
   ]
  },
  {
   "cell_type": "code",
   "execution_count": 14,
   "metadata": {},
   "outputs": [
    {
     "name": "stdout",
     "output_type": "stream",
     "text": [
      "<class 'pandas.core.frame.DataFrame'>\n",
      "RangeIndex: 51 entries, 0 to 50\n",
      "Data columns (total 3 columns):\n",
      "year              51 non-null int64\n",
      "source            51 non-null object\n",
      "net_generation    51 non-null int64\n",
      "dtypes: int64(2), object(1)\n",
      "memory usage: 1.3+ KB\n"
     ]
    }
   ],
   "source": [
    "data.info()"
   ]
  },
  {
   "cell_type": "code",
   "execution_count": 15,
   "metadata": {},
   "outputs": [
    {
     "data": {
      "text/html": [
       "<div>\n",
       "<style scoped>\n",
       "    .dataframe tbody tr th:only-of-type {\n",
       "        vertical-align: middle;\n",
       "    }\n",
       "\n",
       "    .dataframe tbody tr th {\n",
       "        vertical-align: top;\n",
       "    }\n",
       "\n",
       "    .dataframe thead th {\n",
       "        text-align: right;\n",
       "    }\n",
       "</style>\n",
       "<table border=\"1\" class=\"dataframe\">\n",
       "  <thead>\n",
       "    <tr style=\"text-align: right;\">\n",
       "      <th></th>\n",
       "      <th>year</th>\n",
       "      <th>source</th>\n",
       "      <th>net_generation</th>\n",
       "    </tr>\n",
       "  </thead>\n",
       "  <tbody>\n",
       "    <tr>\n",
       "      <th>0</th>\n",
       "      <td>2001</td>\n",
       "      <td>Fossil Fuels</td>\n",
       "      <td>35361</td>\n",
       "    </tr>\n",
       "    <tr>\n",
       "      <th>1</th>\n",
       "      <td>2002</td>\n",
       "      <td>Fossil Fuels</td>\n",
       "      <td>35991</td>\n",
       "    </tr>\n",
       "    <tr>\n",
       "      <th>2</th>\n",
       "      <td>2003</td>\n",
       "      <td>Fossil Fuels</td>\n",
       "      <td>36234</td>\n",
       "    </tr>\n",
       "    <tr>\n",
       "      <th>3</th>\n",
       "      <td>2004</td>\n",
       "      <td>Fossil Fuels</td>\n",
       "      <td>36205</td>\n",
       "    </tr>\n",
       "    <tr>\n",
       "      <th>4</th>\n",
       "      <td>2005</td>\n",
       "      <td>Fossil Fuels</td>\n",
       "      <td>36883</td>\n",
       "    </tr>\n",
       "  </tbody>\n",
       "</table>\n",
       "</div>"
      ],
      "text/plain": [
       "   year        source  net_generation\n",
       "0  2001  Fossil Fuels           35361\n",
       "1  2002  Fossil Fuels           35991\n",
       "2  2003  Fossil Fuels           36234\n",
       "3  2004  Fossil Fuels           36205\n",
       "4  2005  Fossil Fuels           36883"
      ]
     },
     "execution_count": 15,
     "metadata": {},
     "output_type": "execute_result"
    }
   ],
   "source": [
    "data.head()"
   ]
  },
  {
   "cell_type": "markdown",
   "metadata": {},
   "source": [
    "Você ainda pode facilmente criar um gráfico de área Altair. Uma maneira rápida é codificar o eixo x como dados \"ordinais\"."
   ]
  },
  {
   "cell_type": "code",
   "execution_count": 16,
   "metadata": {},
   "outputs": [
    {
     "data": {
      "application/vnd.vegalite.v2+json": {
       "$schema": "https://vega.github.io/schema/vega-lite/v2.4.3.json",
       "config": {
        "view": {
         "height": 300,
         "width": 400
        }
       },
       "data": {
        "values": [
         {
          "net_generation": 35361,
          "source": "Fossil Fuels",
          "year": 2001
         },
         {
          "net_generation": 35991,
          "source": "Fossil Fuels",
          "year": 2002
         },
         {
          "net_generation": 36234,
          "source": "Fossil Fuels",
          "year": 2003
         },
         {
          "net_generation": 36205,
          "source": "Fossil Fuels",
          "year": 2004
         },
         {
          "net_generation": 36883,
          "source": "Fossil Fuels",
          "year": 2005
         },
         {
          "net_generation": 37014,
          "source": "Fossil Fuels",
          "year": 2006
         },
         {
          "net_generation": 41389,
          "source": "Fossil Fuels",
          "year": 2007
         },
         {
          "net_generation": 42734,
          "source": "Fossil Fuels",
          "year": 2008
         },
         {
          "net_generation": 38620,
          "source": "Fossil Fuels",
          "year": 2009
         },
         {
          "net_generation": 42750,
          "source": "Fossil Fuels",
          "year": 2010
         },
         {
          "net_generation": 39361,
          "source": "Fossil Fuels",
          "year": 2011
         },
         {
          "net_generation": 37379,
          "source": "Fossil Fuels",
          "year": 2012
         },
         {
          "net_generation": 34873,
          "source": "Fossil Fuels",
          "year": 2013
         },
         {
          "net_generation": 35250,
          "source": "Fossil Fuels",
          "year": 2014
         },
         {
          "net_generation": 32319,
          "source": "Fossil Fuels",
          "year": 2015
         },
         {
          "net_generation": 28437,
          "source": "Fossil Fuels",
          "year": 2016
         },
         {
          "net_generation": 29329,
          "source": "Fossil Fuels",
          "year": 2017
         },
         {
          "net_generation": 3853,
          "source": "Nuclear Energy",
          "year": 2001
         },
         {
          "net_generation": 4574,
          "source": "Nuclear Energy",
          "year": 2002
         },
         {
          "net_generation": 3988,
          "source": "Nuclear Energy",
          "year": 2003
         },
         {
          "net_generation": 4929,
          "source": "Nuclear Energy",
          "year": 2004
         },
         {
          "net_generation": 4538,
          "source": "Nuclear Energy",
          "year": 2005
         },
         {
          "net_generation": 5095,
          "source": "Nuclear Energy",
          "year": 2006
         },
         {
          "net_generation": 4519,
          "source": "Nuclear Energy",
          "year": 2007
         },
         {
          "net_generation": 5282,
          "source": "Nuclear Energy",
          "year": 2008
         },
         {
          "net_generation": 4679,
          "source": "Nuclear Energy",
          "year": 2009
         },
         {
          "net_generation": 4451,
          "source": "Nuclear Energy",
          "year": 2010
         },
         {
          "net_generation": 5215,
          "source": "Nuclear Energy",
          "year": 2011
         },
         {
          "net_generation": 4347,
          "source": "Nuclear Energy",
          "year": 2012
         },
         {
          "net_generation": 5321,
          "source": "Nuclear Energy",
          "year": 2013
         },
         {
          "net_generation": 4152,
          "source": "Nuclear Energy",
          "year": 2014
         },
         {
          "net_generation": 5243,
          "source": "Nuclear Energy",
          "year": 2015
         },
         {
          "net_generation": 4703,
          "source": "Nuclear Energy",
          "year": 2016
         },
         {
          "net_generation": 5214,
          "source": "Nuclear Energy",
          "year": 2017
         },
         {
          "net_generation": 1437,
          "source": "Renewables",
          "year": 2001
         },
         {
          "net_generation": 1963,
          "source": "Renewables",
          "year": 2002
         },
         {
          "net_generation": 1885,
          "source": "Renewables",
          "year": 2003
         },
         {
          "net_generation": 2102,
          "source": "Renewables",
          "year": 2004
         },
         {
          "net_generation": 2724,
          "source": "Renewables",
          "year": 2005
         },
         {
          "net_generation": 3364,
          "source": "Renewables",
          "year": 2006
         },
         {
          "net_generation": 3870,
          "source": "Renewables",
          "year": 2007
         },
         {
          "net_generation": 5070,
          "source": "Renewables",
          "year": 2008
         },
         {
          "net_generation": 8560,
          "source": "Renewables",
          "year": 2009
         },
         {
          "net_generation": 10308,
          "source": "Renewables",
          "year": 2010
         },
         {
          "net_generation": 11795,
          "source": "Renewables",
          "year": 2011
         },
         {
          "net_generation": 14949,
          "source": "Renewables",
          "year": 2012
         },
         {
          "net_generation": 16476,
          "source": "Renewables",
          "year": 2013
         },
         {
          "net_generation": 17452,
          "source": "Renewables",
          "year": 2014
         },
         {
          "net_generation": 19091,
          "source": "Renewables",
          "year": 2015
         },
         {
          "net_generation": 21241,
          "source": "Renewables",
          "year": 2016
         },
         {
          "net_generation": 21933,
          "source": "Renewables",
          "year": 2017
         }
        ]
       },
       "encoding": {
        "color": {
         "field": "source",
         "type": "nominal"
        },
        "x": {
         "field": "year",
         "type": "ordinal"
        },
        "y": {
         "field": "net_generation",
         "type": "quantitative"
        }
       },
       "mark": "area"
      },
      "image/png": "[encoded data removed]",
      "text/plain": [
       "<VegaLite 2 object>\n",
       "\n",
       "If you see this message, it means the renderer has not been properly enabled\n",
       "for the frontend that you are using. For more information, see\n",
       "https://altair-viz.github.io/user_guide/troubleshooting.html\n"
      ]
     },
     "execution_count": 16,
     "metadata": {},
     "output_type": "execute_result"
    }
   ],
   "source": [
    "alt.Chart(data).mark_area().encode(\n",
    "    x=\"year:O\",  # <-- Right there\n",
    "    y=\"net_generation:Q\",\n",
    "    color=\"source:N\"\n",
    ")"
   ]
  },
  {
   "cell_type": "markdown",
   "metadata": {},
   "source": [
    "Você notará que o gráfico não sangra até a borda do quadro, mas se você estiver esboçando, talvez não se importe.\n",
    "\n",
    "Se você quiser converter seus dados ordinais em datestamps para o gráfico, não é difícil. Pandas tem uma ferramenta construída em to_datetime."
   ]
  },
  {
   "cell_type": "code",
   "execution_count": 17,
   "metadata": {},
   "outputs": [],
   "source": [
    "import pandas as pd"
   ]
  },
  {
   "cell_type": "code",
   "execution_count": 18,
   "metadata": {},
   "outputs": [],
   "source": [
    "data.year = pd.to_datetime(data.year, format=\"%Y\")"
   ]
  },
  {
   "cell_type": "code",
   "execution_count": 19,
   "metadata": {},
   "outputs": [
    {
     "name": "stdout",
     "output_type": "stream",
     "text": [
      "<class 'pandas.core.frame.DataFrame'>\n",
      "RangeIndex: 51 entries, 0 to 50\n",
      "Data columns (total 3 columns):\n",
      "year              51 non-null datetime64[ns]\n",
      "source            51 non-null object\n",
      "net_generation    51 non-null int64\n",
      "dtypes: datetime64[ns](1), int64(1), object(1)\n",
      "memory usage: 1.3+ KB\n"
     ]
    }
   ],
   "source": [
    "data.info()"
   ]
  },
  {
   "cell_type": "markdown",
   "metadata": {},
   "source": [
    "Agora você pode codificá-lo como dados temporais e obter os mesmos gráficos acima."
   ]
  },
  {
   "cell_type": "code",
   "execution_count": 20,
   "metadata": {},
   "outputs": [
    {
     "data": {
      "application/vnd.vegalite.v2+json": {
       "$schema": "https://vega.github.io/schema/vega-lite/v2.4.3.json",
       "config": {
        "view": {
         "height": 300,
         "width": 400
        }
       },
       "data": {
        "values": [
         {
          "net_generation": 35361,
          "source": "Fossil Fuels",
          "year": "2001-01-01"
         },
         {
          "net_generation": 35991,
          "source": "Fossil Fuels",
          "year": "2002-01-01"
         },
         {
          "net_generation": 36234,
          "source": "Fossil Fuels",
          "year": "2003-01-01"
         },
         {
          "net_generation": 36205,
          "source": "Fossil Fuels",
          "year": "2004-01-01"
         },
         {
          "net_generation": 36883,
          "source": "Fossil Fuels",
          "year": "2005-01-01"
         },
         {
          "net_generation": 37014,
          "source": "Fossil Fuels",
          "year": "2006-01-01"
         },
         {
          "net_generation": 41389,
          "source": "Fossil Fuels",
          "year": "2007-01-01"
         },
         {
          "net_generation": 42734,
          "source": "Fossil Fuels",
          "year": "2008-01-01"
         },
         {
          "net_generation": 38620,
          "source": "Fossil Fuels",
          "year": "2009-01-01"
         },
         {
          "net_generation": 42750,
          "source": "Fossil Fuels",
          "year": "2010-01-01"
         },
         {
          "net_generation": 39361,
          "source": "Fossil Fuels",
          "year": "2011-01-01"
         },
         {
          "net_generation": 37379,
          "source": "Fossil Fuels",
          "year": "2012-01-01"
         },
         {
          "net_generation": 34873,
          "source": "Fossil Fuels",
          "year": "2013-01-01"
         },
         {
          "net_generation": 35250,
          "source": "Fossil Fuels",
          "year": "2014-01-01"
         },
         {
          "net_generation": 32319,
          "source": "Fossil Fuels",
          "year": "2015-01-01"
         },
         {
          "net_generation": 28437,
          "source": "Fossil Fuels",
          "year": "2016-01-01"
         },
         {
          "net_generation": 29329,
          "source": "Fossil Fuels",
          "year": "2017-01-01"
         },
         {
          "net_generation": 3853,
          "source": "Nuclear Energy",
          "year": "2001-01-01"
         },
         {
          "net_generation": 4574,
          "source": "Nuclear Energy",
          "year": "2002-01-01"
         },
         {
          "net_generation": 3988,
          "source": "Nuclear Energy",
          "year": "2003-01-01"
         },
         {
          "net_generation": 4929,
          "source": "Nuclear Energy",
          "year": "2004-01-01"
         },
         {
          "net_generation": 4538,
          "source": "Nuclear Energy",
          "year": "2005-01-01"
         },
         {
          "net_generation": 5095,
          "source": "Nuclear Energy",
          "year": "2006-01-01"
         },
         {
          "net_generation": 4519,
          "source": "Nuclear Energy",
          "year": "2007-01-01"
         },
         {
          "net_generation": 5282,
          "source": "Nuclear Energy",
          "year": "2008-01-01"
         },
         {
          "net_generation": 4679,
          "source": "Nuclear Energy",
          "year": "2009-01-01"
         },
         {
          "net_generation": 4451,
          "source": "Nuclear Energy",
          "year": "2010-01-01"
         },
         {
          "net_generation": 5215,
          "source": "Nuclear Energy",
          "year": "2011-01-01"
         },
         {
          "net_generation": 4347,
          "source": "Nuclear Energy",
          "year": "2012-01-01"
         },
         {
          "net_generation": 5321,
          "source": "Nuclear Energy",
          "year": "2013-01-01"
         },
         {
          "net_generation": 4152,
          "source": "Nuclear Energy",
          "year": "2014-01-01"
         },
         {
          "net_generation": 5243,
          "source": "Nuclear Energy",
          "year": "2015-01-01"
         },
         {
          "net_generation": 4703,
          "source": "Nuclear Energy",
          "year": "2016-01-01"
         },
         {
          "net_generation": 5214,
          "source": "Nuclear Energy",
          "year": "2017-01-01"
         },
         {
          "net_generation": 1437,
          "source": "Renewables",
          "year": "2001-01-01"
         },
         {
          "net_generation": 1963,
          "source": "Renewables",
          "year": "2002-01-01"
         },
         {
          "net_generation": 1885,
          "source": "Renewables",
          "year": "2003-01-01"
         },
         {
          "net_generation": 2102,
          "source": "Renewables",
          "year": "2004-01-01"
         },
         {
          "net_generation": 2724,
          "source": "Renewables",
          "year": "2005-01-01"
         },
         {
          "net_generation": 3364,
          "source": "Renewables",
          "year": "2006-01-01"
         },
         {
          "net_generation": 3870,
          "source": "Renewables",
          "year": "2007-01-01"
         },
         {
          "net_generation": 5070,
          "source": "Renewables",
          "year": "2008-01-01"
         },
         {
          "net_generation": 8560,
          "source": "Renewables",
          "year": "2009-01-01"
         },
         {
          "net_generation": 10308,
          "source": "Renewables",
          "year": "2010-01-01"
         },
         {
          "net_generation": 11795,
          "source": "Renewables",
          "year": "2011-01-01"
         },
         {
          "net_generation": 14949,
          "source": "Renewables",
          "year": "2012-01-01"
         },
         {
          "net_generation": 16476,
          "source": "Renewables",
          "year": "2013-01-01"
         },
         {
          "net_generation": 17452,
          "source": "Renewables",
          "year": "2014-01-01"
         },
         {
          "net_generation": 19091,
          "source": "Renewables",
          "year": "2015-01-01"
         },
         {
          "net_generation": 21241,
          "source": "Renewables",
          "year": "2016-01-01"
         },
         {
          "net_generation": 21933,
          "source": "Renewables",
          "year": "2017-01-01"
         }
        ]
       },
       "encoding": {
        "color": {
         "field": "source",
         "type": "nominal"
        },
        "x": {
         "field": "year",
         "type": "temporal"
        },
        "y": {
         "field": "net_generation",
         "type": "quantitative"
        }
       },
       "mark": "area"
      },
      "image/png": "[encoded data removed]",
      "text/plain": [
       "<VegaLite 2 object>\n",
       "\n",
       "If you see this message, it means the renderer has not been properly enabled\n",
       "for the frontend that you are using. For more information, see\n",
       "https://altair-viz.github.io/user_guide/troubleshooting.html\n"
      ]
     },
     "execution_count": 20,
     "metadata": {},
     "output_type": "execute_result"
    }
   ],
   "source": [
    "alt.Chart(data).mark_area().encode(\n",
    "    x=\"year:T\",\n",
    "    y=\"net_generation:Q\",\n",
    "    color=\"source:N\"\n",
    ")"
   ]
  },
  {
   "cell_type": "code",
   "execution_count": null,
   "metadata": {},
   "outputs": [],
   "source": []
  }
 ],
 "metadata": {
  "kernelspec": {
   "display_name": "Python 3",
   "language": "python",
   "name": "python3"
  },
  "language_info": {
   "codemirror_mode": {
    "name": "ipython",
    "version": 3
   },
   "file_extension": ".py",
   "mimetype": "text/x-python",
   "name": "python",
   "nbconvert_exporter": "python",
   "pygments_lexer": "ipython3",
   "version": "3.6.2"
  }
 },
 "nbformat": 4,
 "nbformat_minor": 2
}
