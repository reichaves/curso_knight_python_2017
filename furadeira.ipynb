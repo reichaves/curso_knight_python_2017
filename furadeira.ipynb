{
 "cells": [
  {
   "cell_type": "code",
   "execution_count": 3,
   "metadata": {},
   "outputs": [],
   "source": [
    "# Como furar uma parede, com furadeira"
   ]
  },
  {
   "cell_type": "code",
   "execution_count": null,
   "metadata": {},
   "outputs": [],
   "source": []
  },
  {
   "cell_type": "code",
   "execution_count": 3,
   "metadata": {},
   "outputs": [
    {
     "name": "stdout",
     "output_type": "stream",
     "text": [
      "Você tem uma furadeira (Sim ou Não)? Não\n",
      "Bom, então pegue um martelo e quebre a parede por conta e risco!\n"
     ]
    }
   ],
   "source": [
    "pergunta_basica = input(\"Você tem uma furadeira (Sim ou Não)? \")\n",
    "if pergunta_basica == \"Sim\":\n",
    "    print (\"Legal, vamos prosseguir!\")\n",
    "    print('')\n",
    "    broca = input (\"Você tem uma broca de furar madeira(1), de furar parede(2) ou nem sabe o que é isso(3)? \")\n",
    "    print('')\n",
    "    if broca == \"1\":\n",
    "        print(\"Procure então uma de parede e depois volte aqui!\")\n",
    "        'exit' # comando para encerrar o programa\n",
    "    elif broca == \"2\":\n",
    "        input(\"Veja agora quantos mílimetros tem sua broca. Pressione <Enter> para continuar \")\n",
    "        bucha = input(\"Você tem uma bucha e parafuso do mesmo tamanho da broca (Sim ou Não)? Veja os tamanhos na lateral da broca e da bucha. \")\n",
    "        print('')\n",
    "        if bucha == \"Sim\":\n",
    "            input (\"Com a furadeira desligada da tomada, coloque a broca no mandril. Pressione <Enter> para continuar\")\n",
    "            print('')\n",
    "            input (\"Use a chave de mandril para apertar a broca na furadeira. Pressione <Enter> para continuar\")\n",
    "            print('')\n",
    "            input (\"Escolha o local na parede para furar (cuidado com canos, fios e colunas!!!). Pressione <Enter> para continuar\")\n",
    "            print('')\n",
    "            input (\"Faça uma marquinha na parede. Pressione <Enter> para continuar\")\n",
    "            print('')\n",
    "            input (\"Calcule mais ou menos a profundidade do furo que vai fazer de acordo com o tamanho da bucha. Pressione <Enter> para continuar\")\n",
    "            print('')\n",
    "            input (\"Uma forma de garantir a profundidade pode ser colar uma fita na broca, bem no local onde o furo deve parar. Pressione <Enter> para continuar\")\n",
    "            print('')\n",
    "            input (\"Coloque o plug da furadeira na tomada. Pressione <Enter> para continuar\")\n",
    "            print('')\n",
    "            input (\"Ligue a furadeira e bem devagar e reto na marquinha vá furando. Atenção, o furo não deve ser mais profundo que a bucha. Pressione <Enter> para continuar\")\n",
    "            print('')\n",
    "            input (\"Desligue a furadeira e coloque devagar a bucha no buraco. Pressione <Enter> para continuar\")\n",
    "            print('')\n",
    "            print (\"Parabéns! \\o/ Agora você só precisa limpar tudo! :(\")\n",
    "        else:\n",
    "            print (\"Arranje uma do mesmo tamanho e o parafuso e depois volte aqui!\")\n",
    "            'exit'\n",
    "    else:\n",
    "        print(\"Veja esse site e depois volte aqui: http://blog.fazedores.com/como-escolher-a-broca-certa-para-cada-trabalho/\")\n",
    "        'exit'\n",
    "else:\n",
    "    print (\"Bom, então pegue um martelo e quebre a parede por conta e risco!\")"
   ]
  },
  {
   "cell_type": "code",
   "execution_count": 1,
   "metadata": {},
   "outputs": [
    {
     "data": {
      "text/plain": [
       "5"
      ]
     },
     "execution_count": 1,
     "metadata": {},
     "output_type": "execute_result"
    }
   ],
   "source": [
    "int('5')"
   ]
  },
  {
   "cell_type": "code",
   "execution_count": null,
   "metadata": {},
   "outputs": [],
   "source": []
  }
 ],
 "metadata": {
  "kernelspec": {
   "display_name": "Python 3",
   "language": "python",
   "name": "python3"
  },
  "language_info": {
   "codemirror_mode": {
    "name": "ipython",
    "version": 3
   },
   "file_extension": ".py",
   "mimetype": "text/x-python",
   "name": "python",
   "nbconvert_exporter": "python",
   "pygments_lexer": "ipython3",
   "version": "3.6.2"
  }
 },
 "nbformat": 4,
 "nbformat_minor": 2
}
