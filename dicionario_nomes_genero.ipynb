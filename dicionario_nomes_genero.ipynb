{
 "cells": [
  {
   "cell_type": "code",
   "execution_count": 12,
   "metadata": {},
   "outputs": [
    {
     "name": "stdout",
     "output_type": "stream",
     "text": [
      "Digite uma sequência de nomes, separados por vírgula (,): Maria Filomena, augusto da silva, Silvio santos , Marco antonio , ana maria, roberto carlos\n"
     ]
    }
   ],
   "source": [
    "nomes = input(\"Digite uma sequência de nomes, separados por vírgula (,): \")"
   ]
  },
  {
   "cell_type": "code",
   "execution_count": 13,
   "metadata": {},
   "outputs": [],
   "source": [
    "lista_de_nomes = nomes.split(',')"
   ]
  },
  {
   "cell_type": "code",
   "execution_count": 14,
   "metadata": {},
   "outputs": [],
   "source": [
    "dicionario = {}"
   ]
  },
  {
   "cell_type": "code",
   "execution_count": 15,
   "metadata": {},
   "outputs": [],
   "source": [
    "for nome_completo in lista_de_nomes:\n",
    "    nome_completo = nome_completo.strip().title()\n",
    "    primeiro_nome = nome_completo.strip().split(' ')[0]\n",
    "    if primeiro_nome.endswith('o'):\n",
    "        dicionario[nome_completo] = 'masculino'\n",
    "    elif primeiro_nome.endswith('a'):\n",
    "        dicionario[nome_completo] = 'feminino'\n",
    "    else:\n",
    "        print(\"Não sei o gênero!\")"
   ]
  },
  {
   "cell_type": "code",
   "execution_count": 16,
   "metadata": {},
   "outputs": [
    {
     "name": "stdout",
     "output_type": "stream",
     "text": [
      "Maria Filomena é uma pessoa do sexo feminino\n",
      "Augusto Da Silva é uma pessoa do sexo masculino\n",
      "Silvio Santos é uma pessoa do sexo masculino\n",
      "Marco Antonio é uma pessoa do sexo masculino\n",
      "Ana Maria é uma pessoa do sexo feminino\n",
      "Roberto Carlos é uma pessoa do sexo masculino\n"
     ]
    }
   ],
   "source": [
    "for chave, valor in dicionario.items():\n",
    "\tprint(f'{chave} é uma pessoa do sexo {valor}')\n"
   ]
  },
  {
   "cell_type": "code",
   "execution_count": null,
   "metadata": {},
   "outputs": [],
   "source": []
  }
 ],
 "metadata": {
  "kernelspec": {
   "display_name": "Python 3",
   "language": "python",
   "name": "python3"
  },
  "language_info": {
   "codemirror_mode": {
    "name": "ipython",
    "version": 3
   },
   "file_extension": ".py",
   "mimetype": "text/x-python",
   "name": "python",
   "nbconvert_exporter": "python",
   "pygments_lexer": "ipython3",
   "version": "3.6.2"
  }
 },
 "nbformat": 4,
 "nbformat_minor": 2
}
