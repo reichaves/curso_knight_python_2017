{
 "cells": [
  {
   "cell_type": "code",
   "execution_count": 33,
   "metadata": {},
   "outputs": [],
   "source": [
    "from bs4 import BeautifulSoup\n",
    "import requests\n",
    "import pandas as pd"
   ]
  },
  {
   "cell_type": "code",
   "execution_count": null,
   "metadata": {},
   "outputs": [],
   "source": []
  },
  {
   "cell_type": "code",
   "execution_count": 6,
   "metadata": {},
   "outputs": [],
   "source": [
    "dict_val={}"
   ]
  },
  {
   "cell_type": "code",
   "execution_count": 7,
   "metadata": {},
   "outputs": [],
   "source": [
    "res = requests.get(\"http://idg.receita.fazenda.gov.br/orientacao/tributaria/cadastros/cadastro-nacional-de-pessoas-juridicas-cnpj/dados-abertos-do-cnpj\")"
   ]
  },
  {
   "cell_type": "code",
   "execution_count": 8,
   "metadata": {},
   "outputs": [],
   "source": [
    "soup =  BeautifulSoup(res.text, \"lxml\")"
   ]
  },
  {
   "cell_type": "code",
   "execution_count": 9,
   "metadata": {},
   "outputs": [],
   "source": [
    "table = soup.select(\"table.plain\")[0]"
   ]
  },
  {
   "cell_type": "code",
   "execution_count": 10,
   "metadata": {},
   "outputs": [],
   "source": [
    "for items in table.select(\"tr\"):\n",
    "    data = [[item.text,item['href']] for item in items.select(\".external-link\")]\n",
    "    for data_dict in data:\n",
    "        dict_val[data_dict[0]] = data_dict[1]"
   ]
  },
  {
   "cell_type": "code",
   "execution_count": null,
   "metadata": {},
   "outputs": [],
   "source": []
  },
  {
   "cell_type": "code",
   "execution_count": 12,
   "metadata": {},
   "outputs": [
    {
     "name": "stdout",
     "output_type": "stream",
     "text": [
      "Region of country: Acre - and link with information: http://idg.receita.fazenda.gov.br/orientacao/tributaria/cadastros/cadastro-nacional-de-pessoas-juridicas-cnpj/consultas/download/F.K03200UF.D71214AC\n",
      "Region of country: Espírito Santo - and link with information: http://idg.receita.fazenda.gov.br/orientacao/tributaria/cadastros/cadastro-nacional-de-pessoas-juridicas-cnpj/consultas/download/F.K03200UF.D71214ES\n",
      "Region of country: Paraíba - and link with information: http://idg.receita.fazenda.gov.br/orientacao/tributaria/cadastros/cadastro-nacional-de-pessoas-juridicas-cnpj/consultas/download/F.K03200UF.D71214PB\n",
      "Region of country: Rondônia - and link with information: http://idg.receita.fazenda.gov.br/orientacao/tributaria/cadastros/cadastro-nacional-de-pessoas-juridicas-cnpj/consultas/download/F.K03200UF.D71214RO\n",
      "Region of country: Alagoas - and link with information: http://idg.receita.fazenda.gov.br/orientacao/tributaria/cadastros/cadastro-nacional-de-pessoas-juridicas-cnpj/consultas/download/F.K03200UF.D71214AL\n",
      "Region of country: Goiás - and link with information: http://idg.receita.fazenda.gov.br/orientacao/tributaria/cadastros/cadastro-nacional-de-pessoas-juridicas-cnpj/consultas/download/F.K03200UF.D71214GO\n",
      "Region of country: Paraná - and link with information: http://idg.receita.fazenda.gov.br/orientacao/tributaria/cadastros/cadastro-nacional-de-pessoas-juridicas-cnpj/consultas/download/F.K03200UF.D71214PR\n",
      "Region of country: Roraima - and link with information: http://idg.receita.fazenda.gov.br/orientacao/tributaria/cadastros/cadastro-nacional-de-pessoas-juridicas-cnpj/consultas/download/F.K03200UF.D71214RR\n",
      "Region of country: Amapá - and link with information: http://idg.receita.fazenda.gov.br/orientacao/tributaria/cadastros/cadastro-nacional-de-pessoas-juridicas-cnpj/consultas/download/F.K03200UF.D71214AP\n",
      "Region of country: Maranhão - and link with information: http://idg.receita.fazenda.gov.br/orientacao/tributaria/cadastros/cadastro-nacional-de-pessoas-juridicas-cnpj/consultas/download/F.K03200UF.D71214MA\n",
      "Region of country: Pernambuco - and link with information: http://idg.receita.fazenda.gov.br/orientacao/tributaria/cadastros/cadastro-nacional-de-pessoas-juridicas-cnpj/consultas/download/F.K03200UF.D71214PE\n",
      "Region of country: Santa Catarina - and link with information: http://idg.receita.fazenda.gov.br/orientacao/tributaria/cadastros/cadastro-nacional-de-pessoas-juridicas-cnpj/consultas/download/F.K03200UF.D71214SC\n",
      "Region of country: Amazonas - and link with information: http://idg.receita.fazenda.gov.br/orientacao/tributaria/cadastros/cadastro-nacional-de-pessoas-juridicas-cnpj/consultas/download/F.K03200UF.D71214AM\n",
      "Region of country: Mato Grosso - and link with information: http://idg.receita.fazenda.gov.br/orientacao/tributaria/cadastros/cadastro-nacional-de-pessoas-juridicas-cnpj/consultas/download/F.K03200UF.D71214MT\n",
      "Region of country: Piauí - and link with information: http://idg.receita.fazenda.gov.br/orientacao/tributaria/cadastros/cadastro-nacional-de-pessoas-juridicas-cnpj/consultas/download/F.K03200UF.D71214PI\n",
      "Region of country: São Paulo - and link with information: http://idg.receita.fazenda.gov.br/orientacao/tributaria/cadastros/cadastro-nacional-de-pessoas-juridicas-cnpj/consultas/download/F.K03200UF.D71214SP\n",
      "Region of country: Bahia - and link with information: http://idg.receita.fazenda.gov.br/orientacao/tributaria/cadastros/cadastro-nacional-de-pessoas-juridicas-cnpj/consultas/download/F.K03200UF.D71214BA\n",
      "Region of country: Mato Grosso do Sul - and link with information: http://idg.receita.fazenda.gov.br/orientacao/tributaria/cadastros/cadastro-nacional-de-pessoas-juridicas-cnpj/consultas/download/F.K03200UF.D71214MS\n",
      "Region of country: Rio de Janeiro - and link with information: http://idg.receita.fazenda.gov.br/orientacao/tributaria/cadastros/cadastro-nacional-de-pessoas-juridicas-cnpj/consultas/download/F.K03200UF.D71214RJ\n",
      "Region of country: Sergipe - and link with information: http://idg.receita.fazenda.gov.br/orientacao/tributaria/cadastros/cadastro-nacional-de-pessoas-juridicas-cnpj/consultas/download/F.K03200UF.D71214SE\n",
      "Region of country: Ceará - and link with information: http://idg.receita.fazenda.gov.br/orientacao/tributaria/cadastros/cadastro-nacional-de-pessoas-juridicas-cnpj/consultas/download/F.K03200UF.D71214CE\n",
      "Region of country: Minas Gerais - and link with information: http://idg.receita.fazenda.gov.br/orientacao/tributaria/cadastros/cadastro-nacional-de-pessoas-juridicas-cnpj/consultas/download/F.K03200UF.D71214MG\n",
      "Region of country: Rio Grande do Norte - and link with information: http://idg.receita.fazenda.gov.br/orientacao/tributaria/cadastros/cadastro-nacional-de-pessoas-juridicas-cnpj/consultas/download/F.K03200UF.D71214RN\n",
      "Region of country: Tocantins - and link with information: http://idg.receita.fazenda.gov.br/orientacao/tributaria/cadastros/cadastro-nacional-de-pessoas-juridicas-cnpj/consultas/download/F.K03200UF.D71214TO\n",
      "Region of country: Distrito Federal - and link with information: http://idg.receita.fazenda.gov.br/orientacao/tributaria/cadastros/cadastro-nacional-de-pessoas-juridicas-cnpj/consultas/download/F.K03200UF.D71214DF\n",
      "Region of country: Pará - and link with information: http://idg.receita.fazenda.gov.br/orientacao/tributaria/cadastros/cadastro-nacional-de-pessoas-juridicas-cnpj/consultas/download/F.K03200UF.D71214PA\n",
      "Region of country: Rio Grande do Sul - and link with information: http://idg.receita.fazenda.gov.br/orientacao/tributaria/cadastros/cadastro-nacional-de-pessoas-juridicas-cnpj/consultas/download/F.K03200UF.D71214RS\n"
     ]
    }
   ],
   "source": [
    "for chave, valor in dict_val.items():\n",
    "\tprint (f'Region of country: {chave} - and link with information: {valor}')"
   ]
  },
  {
   "cell_type": "code",
   "execution_count": null,
   "metadata": {},
   "outputs": [],
   "source": []
  },
  {
   "cell_type": "code",
   "execution_count": 42,
   "metadata": {},
   "outputs": [],
   "source": [
    "r = requests.get('http://idg.receita.fazenda.gov.br/orientacao/tributaria/cadastros/cadastro-nacional-de-pessoas-juridicas-cnpj/consultas/download/F.K03200UF.D71214SP')\n",
    "page_text = r.text"
   ]
  },
  {
   "cell_type": "code",
   "execution_count": 47,
   "metadata": {},
   "outputs": [],
   "source": [
    "#page_text"
   ]
  },
  {
   "cell_type": "code",
   "execution_count": 48,
   "metadata": {},
   "outputs": [],
   "source": [
    "#r.encoding"
   ]
  },
  {
   "cell_type": "code",
   "execution_count": 46,
   "metadata": {},
   "outputs": [],
   "source": [
    "lista_de_linha = page_text.split('\\n')"
   ]
  },
  {
   "cell_type": "code",
   "execution_count": 49,
   "metadata": {},
   "outputs": [],
   "source": [
    "#lista_de_linha"
   ]
  },
  {
   "cell_type": "code",
   "execution_count": 50,
   "metadata": {},
   "outputs": [],
   "source": [
    "empresas = []\n",
    "socios = []\n",
    "for linha in lista_de_linha:\n",
    "    if linha.startswith(\"01\"):\n",
    "        cod = linha[2:16]\n",
    "        nome = linha[16:]\n",
    "        #print(cod)\n",
    "        #print(nome)\n",
    "        empresas.append({'cnpj': str(cod), 'nome_empresa': str(nome).strip()})\n",
    "    elif linha.startswith(\"02\"):\n",
    "        cod2 = linha[2:16]\n",
    "        indicador = linha[16:17]\n",
    "        doc = linha[17:31]\n",
    "        qualif = linha[31:33]\n",
    "        socio = linha[33:]\n",
    "        #print(cod2)\n",
    "        #print(indicador)\n",
    "        #print(doc)\n",
    "        #print(qualif)\n",
    "        #print(socio)\n",
    "        socios.append({'cnpj': str(cod2), \n",
    "                        'indicador': str(indicador), \n",
    "                        'documento': str(doc), \n",
    "                        'qualificacao': str(qualif), \n",
    "                        'socio': str(socio).strip()})      "
   ]
  },
  {
   "cell_type": "code",
   "execution_count": 51,
   "metadata": {},
   "outputs": [],
   "source": [
    "df_empresas = pd.DataFrame(empresas, columns = ['cnpj', 'nome_empresa'])"
   ]
  },
  {
   "cell_type": "code",
   "execution_count": 58,
   "metadata": {},
   "outputs": [
    {
     "data": {
      "text/html": [
       "<div>\n",
       "<style scoped>\n",
       "    .dataframe tbody tr th:only-of-type {\n",
       "        vertical-align: middle;\n",
       "    }\n",
       "\n",
       "    .dataframe tbody tr th {\n",
       "        vertical-align: top;\n",
       "    }\n",
       "\n",
       "    .dataframe thead th {\n",
       "        text-align: right;\n",
       "    }\n",
       "</style>\n",
       "<table border=\"1\" class=\"dataframe\">\n",
       "  <thead>\n",
       "    <tr style=\"text-align: right;\">\n",
       "      <th></th>\n",
       "      <th>index</th>\n",
       "      <th>cnpj</th>\n",
       "      <th>nome_empresa</th>\n",
       "    </tr>\n",
       "  </thead>\n",
       "  <tbody>\n",
       "    <tr>\n",
       "      <th>0</th>\n",
       "      <td>0</td>\n",
       "      <td>07396868000100</td>\n",
       "      <td>BISCOITOS DOCES E CHOCOLATES PONTO COM LTDA - ME</td>\n",
       "    </tr>\n",
       "    <tr>\n",
       "      <th>1</th>\n",
       "      <td>1</td>\n",
       "      <td>52393204000133</td>\n",
       "      <td>IRMANDADE DA SANTA CASA DE MISERICORDIA DE NOV...</td>\n",
       "    </tr>\n",
       "    <tr>\n",
       "      <th>2</th>\n",
       "      <td>2</td>\n",
       "      <td>05347151000134</td>\n",
       "      <td>CR SAO JUDAS COMERCIO DE GAS LTDA</td>\n",
       "    </tr>\n",
       "    <tr>\n",
       "      <th>3</th>\n",
       "      <td>3</td>\n",
       "      <td>05093906000111</td>\n",
       "      <td>ELO DESIGN LTDA - ME</td>\n",
       "    </tr>\n",
       "    <tr>\n",
       "      <th>4</th>\n",
       "      <td>4</td>\n",
       "      <td>05302270000170</td>\n",
       "      <td>CUTE CONFECCOES LTDA - EPP</td>\n",
       "    </tr>\n",
       "  </tbody>\n",
       "</table>\n",
       "</div>"
      ],
      "text/plain": [
       "   index            cnpj                                       nome_empresa\n",
       "0      0  07396868000100   BISCOITOS DOCES E CHOCOLATES PONTO COM LTDA - ME\n",
       "1      1  52393204000133  IRMANDADE DA SANTA CASA DE MISERICORDIA DE NOV...\n",
       "2      2  05347151000134                  CR SAO JUDAS COMERCIO DE GAS LTDA\n",
       "3      3  05093906000111                               ELO DESIGN LTDA - ME\n",
       "4      4  05302270000170                         CUTE CONFECCOES LTDA - EPP"
      ]
     },
     "execution_count": 58,
     "metadata": {},
     "output_type": "execute_result"
    }
   ],
   "source": [
    "df_empresas.head().reset_index()"
   ]
  },
  {
   "cell_type": "code",
   "execution_count": 52,
   "metadata": {},
   "outputs": [
    {
     "name": "stdout",
     "output_type": "stream",
     "text": [
      "<class 'pandas.core.frame.DataFrame'>\n",
      "RangeIndex: 2730412 entries, 0 to 2730411\n",
      "Data columns (total 2 columns):\n",
      "cnpj            object\n",
      "nome_empresa    object\n",
      "dtypes: object(2)\n",
      "memory usage: 41.7+ MB\n"
     ]
    }
   ],
   "source": [
    "df_empresas.info()"
   ]
  },
  {
   "cell_type": "code",
   "execution_count": 55,
   "metadata": {},
   "outputs": [],
   "source": [
    "df_empresas.to_csv('empresas_sp_4_1.csv')"
   ]
  },
  {
   "cell_type": "code",
   "execution_count": 53,
   "metadata": {},
   "outputs": [],
   "source": [
    "df_socios = pd.DataFrame(socios, columns = ['cnpj', 'indicador', 'documento', 'qualificacao', 'socio'])"
   ]
  },
  {
   "cell_type": "code",
   "execution_count": 54,
   "metadata": {},
   "outputs": [
    {
     "name": "stdout",
     "output_type": "stream",
     "text": [
      "<class 'pandas.core.frame.DataFrame'>\n",
      "RangeIndex: 5585988 entries, 0 to 5585987\n",
      "Data columns (total 5 columns):\n",
      "cnpj            object\n",
      "indicador       object\n",
      "documento       object\n",
      "qualificacao    object\n",
      "socio           object\n",
      "dtypes: object(5)\n",
      "memory usage: 213.1+ MB\n"
     ]
    }
   ],
   "source": [
    "df_socios.info()"
   ]
  },
  {
   "cell_type": "code",
   "execution_count": 57,
   "metadata": {},
   "outputs": [
    {
     "data": {
      "text/html": [
       "<div>\n",
       "<style scoped>\n",
       "    .dataframe tbody tr th:only-of-type {\n",
       "        vertical-align: middle;\n",
       "    }\n",
       "\n",
       "    .dataframe tbody tr th {\n",
       "        vertical-align: top;\n",
       "    }\n",
       "\n",
       "    .dataframe thead th {\n",
       "        text-align: right;\n",
       "    }\n",
       "</style>\n",
       "<table border=\"1\" class=\"dataframe\">\n",
       "  <thead>\n",
       "    <tr style=\"text-align: right;\">\n",
       "      <th></th>\n",
       "      <th>index</th>\n",
       "      <th>cnpj</th>\n",
       "      <th>indicador</th>\n",
       "      <th>documento</th>\n",
       "      <th>qualificacao</th>\n",
       "      <th>socio</th>\n",
       "    </tr>\n",
       "  </thead>\n",
       "  <tbody>\n",
       "    <tr>\n",
       "      <th>0</th>\n",
       "      <td>0</td>\n",
       "      <td>07396868000100</td>\n",
       "      <td>2</td>\n",
       "      <td></td>\n",
       "      <td>49</td>\n",
       "      <td>CARLOS ANTONIO RIBEIRO</td>\n",
       "    </tr>\n",
       "    <tr>\n",
       "      <th>1</th>\n",
       "      <td>1</td>\n",
       "      <td>52393204000133</td>\n",
       "      <td>2</td>\n",
       "      <td></td>\n",
       "      <td>10</td>\n",
       "      <td>NELSON MORAO CESPEDES</td>\n",
       "    </tr>\n",
       "    <tr>\n",
       "      <th>2</th>\n",
       "      <td>2</td>\n",
       "      <td>52393204000133</td>\n",
       "      <td>2</td>\n",
       "      <td></td>\n",
       "      <td>10</td>\n",
       "      <td>LUIZ ANTONIO TOLARI</td>\n",
       "    </tr>\n",
       "    <tr>\n",
       "      <th>3</th>\n",
       "      <td>3</td>\n",
       "      <td>52393204000133</td>\n",
       "      <td>2</td>\n",
       "      <td></td>\n",
       "      <td>10</td>\n",
       "      <td>ALESSANDRO RENATO PEREGO</td>\n",
       "    </tr>\n",
       "    <tr>\n",
       "      <th>4</th>\n",
       "      <td>4</td>\n",
       "      <td>52393204000133</td>\n",
       "      <td>2</td>\n",
       "      <td></td>\n",
       "      <td>16</td>\n",
       "      <td>EDISON LEONCIO DE SOUSA</td>\n",
       "    </tr>\n",
       "  </tbody>\n",
       "</table>\n",
       "</div>"
      ],
      "text/plain": [
       "   index            cnpj indicador       documento qualificacao  \\\n",
       "0      0  07396868000100         2                           49   \n",
       "1      1  52393204000133         2                           10   \n",
       "2      2  52393204000133         2                           10   \n",
       "3      3  52393204000133         2                           10   \n",
       "4      4  52393204000133         2                           16   \n",
       "\n",
       "                      socio  \n",
       "0    CARLOS ANTONIO RIBEIRO  \n",
       "1     NELSON MORAO CESPEDES  \n",
       "2       LUIZ ANTONIO TOLARI  \n",
       "3  ALESSANDRO RENATO PEREGO  \n",
       "4   EDISON LEONCIO DE SOUSA  "
      ]
     },
     "execution_count": 57,
     "metadata": {},
     "output_type": "execute_result"
    }
   ],
   "source": [
    "df_socios.head().reset_index()"
   ]
  },
  {
   "cell_type": "code",
   "execution_count": 56,
   "metadata": {},
   "outputs": [],
   "source": [
    "df_socios.to_csv('socios_sp_4_1.csv')"
   ]
  },
  {
   "cell_type": "code",
   "execution_count": null,
   "metadata": {},
   "outputs": [],
   "source": []
  }
 ],
 "metadata": {
  "kernelspec": {
   "display_name": "Python 3",
   "language": "python",
   "name": "python3"
  },
  "language_info": {
   "codemirror_mode": {
    "name": "ipython",
    "version": 3
   },
   "file_extension": ".py",
   "mimetype": "text/x-python",
   "name": "python",
   "nbconvert_exporter": "python",
   "pygments_lexer": "ipython3",
   "version": "3.6.2"
  }
 },
 "nbformat": 4,
 "nbformat_minor": 2
}
