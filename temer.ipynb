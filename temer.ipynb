{
 "cells": [
  {
   "cell_type": "code",
   "execution_count": 1,
   "metadata": {},
   "outputs": [],
   "source": [
    "import requests"
   ]
  },
  {
   "cell_type": "code",
   "execution_count": 2,
   "metadata": {},
   "outputs": [],
   "source": [
    "import pandas as pd"
   ]
  },
  {
   "cell_type": "code",
   "execution_count": null,
   "metadata": {},
   "outputs": [],
   "source": []
  },
  {
   "cell_type": "code",
   "execution_count": 3,
   "metadata": {},
   "outputs": [],
   "source": [
    "def pega_posts(url, pagina):\n",
    "    parametros = {'formato': 'json', 'access_token': token, 'fields': 'id,name,fan_count,birthday,posts'}\n",
    "    resposta = requests.get(url, parametros)\n",
    "    print(resposta.json())\n",
    "    postagens = []\n",
    "    for vez in resposta.json()['posts']['data']:\n",
    "        dicionario = {\"pagina\": pagina, \"data\": vez['created_time'], \"mensagem\": vez['message']}\n",
    "        postagens.append(dicionario)\n",
    "    pronto = pd.DataFrame(postagens)\n",
    "    pronto.to_csv('postagens.csv')\n",
    "    print(\"Veja o arquivo postagens.csv com os posts!\")\n",
    "    return pronto"
   ]
  },
  {
   "cell_type": "code",
   "execution_count": null,
   "metadata": {},
   "outputs": [],
   "source": []
  },
  {
   "cell_type": "code",
   "execution_count": 4,
   "metadata": {},
   "outputs": [],
   "source": [
    "ID_do_aplicativo = ''"
   ]
  },
  {
   "cell_type": "code",
   "execution_count": 5,
   "metadata": {},
   "outputs": [],
   "source": [
    "chave = ''"
   ]
  },
  {
   "cell_type": "code",
   "execution_count": 6,
   "metadata": {},
   "outputs": [],
   "source": [
    "token = ID_do_aplicativo + '|' + chave"
   ]
  },
  {
   "cell_type": "code",
   "execution_count": null,
   "metadata": {},
   "outputs": [],
   "source": []
  },
  {
   "cell_type": "code",
   "execution_count": 7,
   "metadata": {},
   "outputs": [],
   "source": [
    "#pagina = input(\"Qual página você quer os posts (digite igual a como aparece no Facebook depois de @)?\")"
   ]
  },
  {
   "cell_type": "code",
   "execution_count": 8,
   "metadata": {},
   "outputs": [],
   "source": [
    "pagina = \"jairmessias.bolsonaro\""
   ]
  },
  {
   "cell_type": "code",
   "execution_count": 9,
   "metadata": {},
   "outputs": [],
   "source": [
    "#pagina = \"MichelTemer\""
   ]
  },
  {
   "cell_type": "code",
   "execution_count": 10,
   "metadata": {},
   "outputs": [],
   "source": [
    "url = f'https://graph.facebook.com/v2.11/{pagina}?access_token={token}'"
   ]
  },
  {
   "cell_type": "code",
   "execution_count": 11,
   "metadata": {},
   "outputs": [
    {
     "name": "stdout",
     "output_type": "stream",
     "text": [
      "{'id': '211857482296579', 'name': 'Jair Messias Bolsonaro', 'fan_count': 4887850, 'posts': {'data': [{'created_time': '2017-12-19T14:06:16+0000', 'message': '- Eduardo Costa e as pesquisas eleitorais.', 'id': '211857482296579_972113536270966'}, {'created_time': '2017-12-18T20:38:38+0000', 'message': '- Entrevista à TV RTP (Rádio e Televisão de Portugal).', 'id': '211857482296579_971735922975394'}, {'created_time': '2017-12-18T16:50:29+0000', 'message': '- TV EM TEMPO noticia nossa passagem por Manaus.', 'id': '211857482296579_971651086317211'}, {'created_time': '2017-12-18T13:34:03+0000', 'message': '- Nossa mensagem, em Libras, a todos brasileiros: FELIZ NATAL.\\n- Agradecimento à Sra. Karina Bueno, intérprete de SP.\\n\\nSurdo Mundo - www.surdomundo.com.br', 'id': '211857482296579_971528299662823'}, {'created_time': '2017-12-18T00:10:53+0000', 'message': 'Parabéns Sebastian Piñera pela vitória nas eleições! Desejo um excelente governo, e que o Chile continue sendo muitas vezes exemplo e referência política e econômica para o Brasil.\\n\\nA população latino-americana está dando o seu recado após sucessivos fracassos e crimes da esquerda em todos os países onde imperou! O Foro de São Paulo está com os dias contados. Boa noite a todos e fiquem com Deus!', 'id': '211857482296579_971270859688567'}, {'created_time': '2017-12-17T22:29:28+0000', 'message': 'Já somos mais de 800k no twitter! 👍🏻', 'id': '211857482296579_971218703027116'}, {'created_time': '2017-12-17T19:32:13+0000', 'message': '- Márvio Lúcio (Carioca) e Jair Bolsonaro momentos antes de sua apresentação.', 'id': '211857482296579_971157599699893'}, {'created_time': '2017-12-17T13:53:08+0000', 'message': '- Márvio Lúcio (Carioca), BolsoNabo, Amin Khader e Jair Bolsonaro. \\n\\n- Teatro Oi Casa Grande/Rio/RJ. \\n\\n- Vamos descontrair.....', 'id': '211857482296579_970992436383076'}, {'created_time': '2017-12-17T11:31:43+0000', 'message': '- 40 anos depois na Academia Militar das Agulhas Negras. \\n\\n- 16/dezembro, com a mesma determinação e vontade de servir ao Brasil.', 'id': '211857482296579_970915749724078'}, {'created_time': '2017-12-16T22:19:36+0000', 'message': '- BolsoNabo X Bolsonaro.', 'id': '211857482296579_970651603083826'}, {'created_time': '2017-12-16T19:43:55+0000', 'message': '- Nosso maior motivo pela ida a Manaus: Educação.', 'id': '211857482296579_970597886422531'}, {'created_time': '2017-12-16T01:06:59+0000', 'message': '- Passagem por Manacapuru/AM.', 'id': '211857482296579_970164803132506'}, {'created_time': '2017-12-15T23:14:35+0000', 'message': '- Parte externa do aeroporto de Manaus.\\n\\n- Espontaneidade dos manauaras assustou a imprensa local.', 'id': '211857482296579_970114266470893'}, {'created_time': '2017-12-15T17:39:13+0000', 'message': '- Obrigado Amazonas.\\n\\n- Uma viagem ao coração do Brasil.', 'id': '211857482296579_969978426484477'}, {'created_time': '2017-12-15T13:40:27+0000', 'message': 'Rádio de Manacapuru', 'story': 'Jair Messias Bolsonaro was live.', 'id': '211857482296579_969804469835206'}, {'created_time': '2017-12-15T12:56:22+0000', 'story': 'Jair Messias Bolsonaro was live.', 'id': '211857482296579_969756826506637'}, {'created_time': '2017-12-15T12:47:15+0000', 'message': 'Manacapuru - AM\\npraça central', 'story': 'Jair Messias Bolsonaro was live.', 'id': '211857482296579_969737673175219'}, {'created_time': '2017-12-15T12:34:05+0000', 'message': 'Manacapuru - AM', 'story': 'Jair Messias Bolsonaro was live.', 'id': '211857482296579_969721553176831'}, {'created_time': '2017-12-14T23:15:41+0000', 'message': 'Formatura CMPM - Escola Waldock Fricke\\nManaus - AM', 'story': 'Jair Messias Bolsonaro was live.', 'id': '211857482296579_969352419880411'}, {'created_time': '2017-12-14T21:31:14+0000', 'message': '- Obrigado Manaus. \\n\\n- Um abraço Amazonas.', 'id': '211857482296579_969292876553032'}, {'created_time': '2017-12-14T19:30:45+0000', 'story': 'Jair Messias Bolsonaro was live.', 'id': '211857482296579_969169303232056'}, {'created_time': '2017-12-14T16:03:39+0000', 'message': 'Obrigado, Manaus!', 'id': '211857482296579_969047899910863'}, {'created_time': '2017-12-14T15:08:43+0000', 'message': '- Chegada em Manaus - 14 dezembro', 'story': 'Jair Messias Bolsonaro was live.', 'id': '211857482296579_968973099918343'}, {'created_time': '2017-12-14T11:50:46+0000', 'message': '- Desde 2014 denuncio interesse do Governo em importar bananas, isso mesmo BANANAS, do Equador.', 'id': '211857482296579_968878169927836'}, {'created_time': '2017-12-14T09:55:32+0000', 'message': '- Uma entrevista sem igual, pelo tema e seriedade do jornalista. \\n\\n- Peço assistir e compartilhar.\\n\\n. Inscreva-se em nosso canal no youtube e receba gratuitamente nossos vídeos em sua caixa de emails. https://tinyurl.com/yb5bllnb', 'id': '211857482296579_968833966598923'}], 'paging': {'cursors': {'before': 'Q2c4U1pXNTBYM0YxWlhKNVgzTjBiM0o1WDJsa0R5TXlNVEU0TlRjME9ESXlPVFkxTnprNk1UTTBORFF4TlRFMk1qRXdNelUwT1RreE53OE1ZAWEJwWDNOMGIzSjVYMmxrRHg4eU1URTROVGMwT0RJeU9UWTFOemxmT1RjeU1URXpOVE0yTWpjd09UWTJEd1IwYVcxbEJsbzVITmdC', 'after': 'Q2c4U1pXNTBYM0YxWlhKNVgzTjBiM0o1WDJsa0R5UXlNVEU0TlRjME9ESXlPVFkxTnprNkxUVTBPRGc1TXpVeU5UVTVNVGt5TXpJd05qa1BER0ZA3YVY5emRHOXllVjlwWkE4ZAk1qRXhPRFUzTkRneU1qazJOVGM1WHprMk9EZA3pNemsyTmpVNU9Ea3lNdzhFZAEdsdFpRWmFNa3FVQVE9PQZDZD'}, 'next': 'https://graph.facebook.com/v2.11/211857482296579/posts?access_token=173509603240311%7Cf9161dba93f653ccabfe38032f4851aa&limit=25&after=Q2c4U1pXNTBYM0YxWlhKNVgzTjBiM0o1WDJsa0R5UXlNVEU0TlRjME9ESXlPVFkxTnprNkxUVTBPRGc1TXpVeU5UVTVNVGt5TXpJd05qa1BER0ZA3YVY5emRHOXllVjlwWkE4ZAk1qRXhPRFUzTkRneU1qazJOVGM1WHprMk9EZA3pNemsyTmpVNU9Ea3lNdzhFZAEdsdFpRWmFNa3FVQVE9PQZDZD'}}}\n"
     ]
    },
    {
     "ename": "KeyError",
     "evalue": "'message'",
     "output_type": "error",
     "traceback": [
      "\u001b[0;31m---------------------------------------------------------------------------\u001b[0m",
      "\u001b[0;31mKeyError\u001b[0m                                  Traceback (most recent call last)",
      "\u001b[0;32m<ipython-input-11-ac5fd856ce68>\u001b[0m in \u001b[0;36m<module>\u001b[0;34m()\u001b[0m\n\u001b[0;32m----> 1\u001b[0;31m \u001b[0mresultado\u001b[0m \u001b[0;34m=\u001b[0m \u001b[0mpega_posts\u001b[0m\u001b[0;34m(\u001b[0m\u001b[0murl\u001b[0m\u001b[0;34m,\u001b[0m \u001b[0mpagina\u001b[0m\u001b[0;34m)\u001b[0m\u001b[0;34m\u001b[0m\u001b[0m\n\u001b[0m",
      "\u001b[0;32m<ipython-input-3-67e9895843c7>\u001b[0m in \u001b[0;36mpega_posts\u001b[0;34m(url, pagina)\u001b[0m\n\u001b[1;32m      5\u001b[0m     \u001b[0mpostagens\u001b[0m \u001b[0;34m=\u001b[0m \u001b[0;34m[\u001b[0m\u001b[0;34m]\u001b[0m\u001b[0;34m\u001b[0m\u001b[0m\n\u001b[1;32m      6\u001b[0m     \u001b[0;32mfor\u001b[0m \u001b[0mvez\u001b[0m \u001b[0;32min\u001b[0m \u001b[0mresposta\u001b[0m\u001b[0;34m.\u001b[0m\u001b[0mjson\u001b[0m\u001b[0;34m(\u001b[0m\u001b[0;34m)\u001b[0m\u001b[0;34m[\u001b[0m\u001b[0;34m'posts'\u001b[0m\u001b[0;34m]\u001b[0m\u001b[0;34m[\u001b[0m\u001b[0;34m'data'\u001b[0m\u001b[0;34m]\u001b[0m\u001b[0;34m:\u001b[0m\u001b[0;34m\u001b[0m\u001b[0m\n\u001b[0;32m----> 7\u001b[0;31m         \u001b[0mdicionario\u001b[0m \u001b[0;34m=\u001b[0m \u001b[0;34m{\u001b[0m\u001b[0;34m\"pagina\"\u001b[0m\u001b[0;34m:\u001b[0m \u001b[0mpagina\u001b[0m\u001b[0;34m,\u001b[0m \u001b[0;34m\"data\"\u001b[0m\u001b[0;34m:\u001b[0m \u001b[0mvez\u001b[0m\u001b[0;34m[\u001b[0m\u001b[0;34m'created_time'\u001b[0m\u001b[0;34m]\u001b[0m\u001b[0;34m,\u001b[0m \u001b[0;34m\"mensagem\"\u001b[0m\u001b[0;34m:\u001b[0m \u001b[0mvez\u001b[0m\u001b[0;34m[\u001b[0m\u001b[0;34m'message'\u001b[0m\u001b[0;34m]\u001b[0m\u001b[0;34m}\u001b[0m\u001b[0;34m\u001b[0m\u001b[0m\n\u001b[0m\u001b[1;32m      8\u001b[0m         \u001b[0mpostagens\u001b[0m\u001b[0;34m.\u001b[0m\u001b[0mappend\u001b[0m\u001b[0;34m(\u001b[0m\u001b[0mdicionario\u001b[0m\u001b[0;34m)\u001b[0m\u001b[0;34m\u001b[0m\u001b[0m\n\u001b[1;32m      9\u001b[0m     \u001b[0mpronto\u001b[0m \u001b[0;34m=\u001b[0m \u001b[0mpd\u001b[0m\u001b[0;34m.\u001b[0m\u001b[0mDataFrame\u001b[0m\u001b[0;34m(\u001b[0m\u001b[0mpostagens\u001b[0m\u001b[0;34m)\u001b[0m\u001b[0;34m\u001b[0m\u001b[0m\n",
      "\u001b[0;31mKeyError\u001b[0m: 'message'"
     ]
    }
   ],
   "source": [
    "resultado = pega_posts(url, pagina)"
   ]
  },
  {
   "cell_type": "code",
   "execution_count": 10,
   "metadata": {},
   "outputs": [
    {
     "data": {
      "text/html": [
       "<div>\n",
       "<style scoped>\n",
       "    .dataframe tbody tr th:only-of-type {\n",
       "        vertical-align: middle;\n",
       "    }\n",
       "\n",
       "    .dataframe tbody tr th {\n",
       "        vertical-align: top;\n",
       "    }\n",
       "\n",
       "    .dataframe thead th {\n",
       "        text-align: right;\n",
       "    }\n",
       "</style>\n",
       "<table border=\"1\" class=\"dataframe\">\n",
       "  <thead>\n",
       "    <tr style=\"text-align: right;\">\n",
       "      <th></th>\n",
       "      <th>index</th>\n",
       "      <th>data</th>\n",
       "      <th>mensagem</th>\n",
       "      <th>pagina</th>\n",
       "    </tr>\n",
       "  </thead>\n",
       "  <tbody>\n",
       "    <tr>\n",
       "      <th>0</th>\n",
       "      <td>0</td>\n",
       "      <td>2017-12-19T13:26:49+0000</td>\n",
       "      <td>#AoVivo\\nPresidente Michel Temer participa da ...</td>\n",
       "      <td>MichelTemer</td>\n",
       "    </tr>\n",
       "    <tr>\n",
       "      <th>1</th>\n",
       "      <td>1</td>\n",
       "      <td>2017-12-18T21:44:47+0000</td>\n",
       "      <td>Com coragem e ousadia, estamos promovendo muda...</td>\n",
       "      <td>MichelTemer</td>\n",
       "    </tr>\n",
       "    <tr>\n",
       "      <th>2</th>\n",
       "      <td>2</td>\n",
       "      <td>2017-12-17T12:00:00+0000</td>\n",
       "      <td>Têm sido muitas as nossas iniciativas para tra...</td>\n",
       "      <td>MichelTemer</td>\n",
       "    </tr>\n",
       "    <tr>\n",
       "      <th>3</th>\n",
       "      <td>3</td>\n",
       "      <td>2017-12-16T22:47:35+0000</td>\n",
       "      <td>Confira como foi a #SemanaDoPlanalto. Assista:</td>\n",
       "      <td>MichelTemer</td>\n",
       "    </tr>\n",
       "    <tr>\n",
       "      <th>4</th>\n",
       "      <td>4</td>\n",
       "      <td>2017-12-16T12:00:00+0000</td>\n",
       "      <td>Os prefeitos que vieram aqui, esta semana, sab...</td>\n",
       "      <td>MichelTemer</td>\n",
       "    </tr>\n",
       "  </tbody>\n",
       "</table>\n",
       "</div>"
      ],
      "text/plain": [
       "   index                      data  \\\n",
       "0      0  2017-12-19T13:26:49+0000   \n",
       "1      1  2017-12-18T21:44:47+0000   \n",
       "2      2  2017-12-17T12:00:00+0000   \n",
       "3      3  2017-12-16T22:47:35+0000   \n",
       "4      4  2017-12-16T12:00:00+0000   \n",
       "\n",
       "                                            mensagem       pagina  \n",
       "0  #AoVivo\\nPresidente Michel Temer participa da ...  MichelTemer  \n",
       "1  Com coragem e ousadia, estamos promovendo muda...  MichelTemer  \n",
       "2  Têm sido muitas as nossas iniciativas para tra...  MichelTemer  \n",
       "3     Confira como foi a #SemanaDoPlanalto. Assista:  MichelTemer  \n",
       "4  Os prefeitos que vieram aqui, esta semana, sab...  MichelTemer  "
      ]
     },
     "execution_count": 10,
     "metadata": {},
     "output_type": "execute_result"
    }
   ],
   "source": [
    "resultado.reset_index().head()"
   ]
  },
  {
   "cell_type": "code",
   "execution_count": null,
   "metadata": {},
   "outputs": [],
   "source": []
  },
  {
   "cell_type": "code",
   "execution_count": null,
   "metadata": {},
   "outputs": [],
   "source": []
  },
  {
   "cell_type": "code",
   "execution_count": 22,
   "metadata": {},
   "outputs": [],
   "source": [
    "parametros = {'formato': 'json'}\n",
    "resposta = requests.get(url, parametros)"
   ]
  },
  {
   "cell_type": "code",
   "execution_count": 14,
   "metadata": {},
   "outputs": [
    {
     "ename": "NameError",
     "evalue": "name 'resposta' is not defined",
     "output_type": "error",
     "traceback": [
      "\u001b[0;31m---------------------------------------------------------------------------\u001b[0m",
      "\u001b[0;31mNameError\u001b[0m                                 Traceback (most recent call last)",
      "\u001b[0;32m<ipython-input-14-ce856e5b7700>\u001b[0m in \u001b[0;36m<module>\u001b[0;34m()\u001b[0m\n\u001b[0;32m----> 1\u001b[0;31m \u001b[0mprint\u001b[0m\u001b[0;34m(\u001b[0m\u001b[0mresposta\u001b[0m\u001b[0;34m.\u001b[0m\u001b[0mjson\u001b[0m\u001b[0;34m(\u001b[0m\u001b[0;34m)\u001b[0m\u001b[0;34m)\u001b[0m\u001b[0;34m\u001b[0m\u001b[0m\n\u001b[0m",
      "\u001b[0;31mNameError\u001b[0m: name 'resposta' is not defined"
     ]
    }
   ],
   "source": [
    "print(resposta.json())"
   ]
  },
  {
   "cell_type": "code",
   "execution_count": null,
   "metadata": {},
   "outputs": [],
   "source": []
  },
  {
   "cell_type": "code",
   "execution_count": null,
   "metadata": {},
   "outputs": [],
   "source": []
  },
  {
   "cell_type": "code",
   "execution_count": 46,
   "metadata": {},
   "outputs": [],
   "source": [
    "parametros = {'formato': 'json', 'access_token': token, 'fields': 'id,name,fan_count,birthday,posts'}"
   ]
  },
  {
   "cell_type": "code",
   "execution_count": 47,
   "metadata": {},
   "outputs": [],
   "source": [
    "resposta = requests.get(url, parametros)"
   ]
  },
  {
   "cell_type": "code",
   "execution_count": 48,
   "metadata": {},
   "outputs": [],
   "source": [
    "postagens = []\n",
    "for vez in resposta.json()['posts']['data']:\n",
    "        dicionario = {data\": vez['created_time'], \"mensagem\": vez['message']}\n",
    "        postagens.append(dicionario)"
   ]
  },
  {
   "cell_type": "code",
   "execution_count": 49,
   "metadata": {},
   "outputs": [
    {
     "data": {
      "text/plain": [
       "[{'data': '2017-12-19T13:26:49+0000',\n",
       "  'mensagem': '#AoVivo\\nPresidente Michel Temer participa da Convenção Nacional do #PMDB. Acompanhe:'},\n",
       " {'data': '2017-12-18T21:44:47+0000',\n",
       "  'mensagem': 'Com coragem e ousadia, estamos promovendo mudanças que beneficiam o País, como o controle dos gastos públicos, a aprovação da reforma do ensino médio, da modernização trabalhista. Nossos esforços agora serão para aprovar a reforma da #Previdência. Leia: http://bit.ly/2zkTsoo'},\n",
       " {'data': '2017-12-17T12:00:00+0000',\n",
       "  'mensagem': 'Têm sido muitas as nossas iniciativas para transformar o Estado brasileiro, para torná-lo mais moderno e mais justo. A verdade é que o Brasil não tolera mais um Estado que funcione a favor de uns poucos, em detrimento da maioria. É isso que nos anima a consertar a Previdência Social. Saiba mais:'},\n",
       " {'data': '2017-12-16T22:47:35+0000',\n",
       "  'mensagem': 'Confira como foi a #SemanaDoPlanalto. Assista:'},\n",
       " {'data': '2017-12-16T12:00:00+0000',\n",
       "  'mensagem': 'Os prefeitos que vieram aqui, esta semana, sabem melhor que ninguém que sem a reforma da #Previdência muitos benefícios serão prejudicados. A reforma é mais em benefício dos estados e municípios. Ela compõe o novo pacto federativo que fizemos quando assumi o governo. E é fundamental para o equilíbrio das contas: http://bit.ly/2AymrUe'},\n",
       " {'data': '2017-12-15T21:53:56+0000',\n",
       "  'mensagem': 'Nós vamos aprovar a #Previdência no Congresso Nacional, não tenho a menor dúvida disso. Sei que o tema é complexo, porém com a comunicação feita pelo governo, boa parte da população já apoia as mudanças no sistema previdenciário: http://bit.ly/2CirKri \\nAssista:'},\n",
       " {'data': '2017-12-13T13:03:12+0000',\n",
       "  'mensagem': '#AoVivo\\nPresidente Michel Temer se reúne com a CNM - Confederação Nacional de Municípios sobre reforma da #Previdência. Acompanhe:'},\n",
       " {'data': '2017-12-13T01:22:12+0000',\n",
       "  'mensagem': 'Reuni lideranças empresariais de todo o País e pedi apoio para a reforma da #Previdência. Os empresários reafirmaram a importância de mudanças que garantam um ambiente econômico favorável para desenvolvimento do Brasil. Por isso, a hora, é agora! http://bit.ly/2Ayfeau'},\n",
       " {'data': '2017-12-12T20:01:40+0000',\n",
       "  'mensagem': '#AoVivo\\nPresidente Michel Temer se reúne com líderes empresariais para falar sobre reforma da #Previdência. Acompanhe:'},\n",
       " {'data': '2017-12-12T18:11:07+0000',\n",
       "  'mensagem': '#AoVivo \\nPresidente Michel Temer lança o Plano Agro Mais Integridade. Acompanhe:'},\n",
       " {'data': '2017-12-12T14:19:20+0000',\n",
       "  'mensagem': '#AoVivo \\nMichel Temer recebe o presidente da Macedônia, Gjorge Ivanov. Em seguida, terão encontro bilateral. Acompanhe:\\n\\nЃОРГЕ ИВАНОВ, ПРЕТСЕДАТЕЛ НА РЕПУБЛИКА МАКЕДОНИЈА'},\n",
       " {'data': '2017-12-10T23:03:04+0000',\n",
       "  'mensagem': 'É ilusório pensar que o protecionismo seja caminho sustentável para o desenvolvimento, ou para o bem-estar dos povos. O que de fato traz desenvolvimento, traz bem-estar é mais e mais integração. É em nome de mais integração que defendemos a Organização Mundial do Comércio: http://bit.ly/2B5YWoL'},\n",
       " {'data': '2017-12-10T20:33:52+0000',\n",
       "  'mensagem': '#AoVivo\\nNa Argentina, presidente Michel Temer participa da abertura da XI Conferência Ministerial da Organização Mundial do Comércio (OMC). Acompanhe:'},\n",
       " {'data': '2017-12-09T13:25:48+0000',\n",
       "  'mensagem': 'Confira como foi a #SemanaDoPlanalto. Assista:'},\n",
       " {'data': '2017-12-08T16:36:28+0000',\n",
       "  'mensagem': '#AoVivo\\nPresidente participa do Encontro Anual da Indústria Elétrica e Eletrônica. Acompanhe:'},\n",
       " {'data': '2017-12-08T12:34:57+0000',\n",
       "  'mensagem': '#AoVivo\\nPresidente Michel Temer participa da cerimônia de abertura do XXII Encontro Anual da Indústria Química, em SP. Acompanhe:'},\n",
       " {'data': '2017-12-07T23:31:19+0000',\n",
       "  'mensagem': 'Estamos devolvendo o #Fies para o Brasil, dando oportunidades para mais jovens cursarem o ensino superior. Nosso governo sabe que a educação é fundamental para dar um salto de qualidade em nosso País: bit.ly/2kvCRt7 Assista:'},\n",
       " {'data': '2017-12-07T17:28:40+0000',\n",
       "  'mensagem': '#AoVivo\\nPresidente Michel Temer sanciona a lei do #NovoFies. Acompanhe:'},\n",
       " {'data': '2017-12-06T22:30:00+0000',\n",
       "  'mensagem': 'Hoje, tivemos uma boa notícia: o Banco Central do Brasil cortou novamente a taxa de juros. Ela está em 7% ao ano. Com os juros mais baixos, fica mais fácil para viver, para trabalhar, para comprar, para morar. O Brasil está voltando aos trilhos: http://bit.ly/2AgmWGo'},\n",
       " {'data': '2017-12-06T17:39:43+0000',\n",
       "  'mensagem': '#AoVivo\\nPresidente Michel Temer assina decreto de criação da Rede #BrasilMulher. Acompanhe: http://bit.ly/2jZMMU7'},\n",
       " {'data': '2017-12-06T00:40:00+0000',\n",
       "  'mensagem': '#AoVivo\\nEm São Paulo, presidente Michel Temer participa da cerimônia de entrega do título de “Brasileiro do Ano”, pela Revista ISTOÉ e “Empreendedor do Ano”, pela revista IstoÉ Dinheiro. Assista:'},\n",
       " {'data': '2017-12-05T13:28:27+0000',\n",
       "  'mensagem': '#AoVivo\\nMichel Temer recebe o presidente da Bolívia, Evo Morales. Em seguida, terão encontro bilateral e participam de assinaturas de atos. Acompanhe:'},\n",
       " {'data': '2017-12-02T16:41:39+0000',\n",
       "  'mensagem': 'Em Americana (SP), a emoção no rosto das famílias que receberam a casa própria reafirma que nosso governo está no caminho certo. Agora, é continuar trabalhando. Agora, é #Avançar! #JuntosFazemos'},\n",
       " {'data': '2017-12-02T15:44:57+0000',\n",
       "  'mensagem': 'Em Limeira (SP), mais de 3.600 pessoas realizaram o sonho da casa 🏡 própria. Governar é saber se unir. É saber reformar, transformar. Agora, é #Avançar! #JuntosFazemos'},\n",
       " {'data': '2017-12-02T14:37:33+0000',\n",
       "  'mensagem': '#AoVivo\\nPresidente Michel Temer entrega moradias do #MinhaCasaMinhaVida em Americana (SP). Acompanhe:\\n#AgoraÉAvançar'}]"
      ]
     },
     "execution_count": 49,
     "metadata": {},
     "output_type": "execute_result"
    }
   ],
   "source": [
    "postagens"
   ]
  },
  {
   "cell_type": "code",
   "execution_count": 36,
   "metadata": {},
   "outputs": [
    {
     "name": "stdout",
     "output_type": "stream",
     "text": [
      "{'id': '435464776514810', 'name': 'Michel Temer', 'fan_count': 597885, 'birthday': '09/23/1940', 'posts': {'data': [{'created_time': '2017-12-19T13:26:49+0000', 'message': '#AoVivo\\nPresidente Michel Temer participa da Convenção Nacional do #PMDB. Acompanhe:', 'story': \"Michel Temer shared MDB Nacional's live video.\", 'id': '435464776514810_1669163049811637'}, {'created_time': '2017-12-18T21:44:47+0000', 'message': 'Com coragem e ousadia, estamos promovendo mudanças que beneficiam o País, como o controle dos gastos públicos, a aprovação da reforma do ensino médio, da modernização trabalhista. Nossos esforços agora serão para aprovar a reforma da #Previdência. Leia: http://bit.ly/2zkTsoo', 'id': '435464776514810_1668503636544245'}, {'created_time': '2017-12-17T12:00:00+0000', 'message': 'Têm sido muitas as nossas iniciativas para transformar o Estado brasileiro, para torná-lo mais moderno e mais justo. A verdade é que o Brasil não tolera mais um Estado que funcione a favor de uns poucos, em detrimento da maioria. É isso que nos anima a consertar a Previdência Social. Saiba mais:', 'id': '435464776514810_1663596550368287'}, {'created_time': '2017-12-16T22:47:35+0000', 'message': 'Confira como foi a #SemanaDoPlanalto. Assista:', 'story': \"Michel Temer shared Planalto's video.\", 'id': '435464776514810_1666759873385288'}, {'created_time': '2017-12-16T12:00:00+0000', 'message': 'Os prefeitos que vieram aqui, esta semana, sabem melhor que ninguém que sem a reforma da #Previdência muitos benefícios serão prejudicados. A reforma é mais em benefício dos estados e municípios. Ela compõe o novo pacto federativo que fizemos quando assumi o governo. E é fundamental para o equilíbrio das contas: http://bit.ly/2AymrUe', 'id': '435464776514810_1665449333516342'}, {'created_time': '2017-12-15T21:53:56+0000', 'message': 'Nós vamos aprovar a #Previdência no Congresso Nacional, não tenho a menor dúvida disso. Sei que o tema é complexo, porém com a comunicação feita pelo governo, boa parte da população já apoia as mudanças no sistema previdenciário: http://bit.ly/2CirKri \\nAssista:', 'id': '435464776514810_1665709580156984'}, {'created_time': '2017-12-13T13:03:12+0000', 'message': '#AoVivo\\nPresidente Michel Temer se reúne com a CNM - Confederação Nacional de Municípios sobre reforma da #Previdência. Acompanhe:', 'story': \"Michel Temer shared Planalto's live video.\", 'id': '435464776514810_1663297287064880'}, {'created_time': '2017-12-13T01:22:12+0000', 'message': 'Reuni lideranças empresariais de todo o País e pedi apoio para a reforma da #Previdência. Os empresários reafirmaram a importância de mudanças que garantam um ambiente econômico favorável para desenvolvimento do Brasil. Por isso, a hora, é agora! http://bit.ly/2Ayfeau', 'id': '435464776514810_1662856497108959'}, {'created_time': '2017-12-12T20:01:40+0000', 'message': '#AoVivo\\nPresidente Michel Temer se reúne com líderes empresariais para falar sobre reforma da #Previdência. Acompanhe:', 'story': \"Michel Temer shared Planalto's live video.\", 'id': '435464776514810_1662648313796444'}, {'created_time': '2017-12-12T18:11:07+0000', 'message': '#AoVivo \\nPresidente Michel Temer lança o Plano Agro Mais Integridade. Acompanhe:', 'story': \"Michel Temer shared Ministério da Agricultura, Pecuária e Abastecimento's live video.\", 'id': '435464776514810_1662578723803403'}, {'created_time': '2017-12-12T14:19:20+0000', 'message': '#AoVivo \\nMichel Temer recebe o presidente da Macedônia, Gjorge Ivanov. Em seguida, terão encontro bilateral. Acompanhe:\\n\\nЃОРГЕ ИВАНОВ, ПРЕТСЕДАТЕЛ НА РЕПУБЛИКА МАКЕДОНИЈА', 'story': \"Michel Temer shared Planalto's live video.\", 'id': '435464776514810_1662396253821650'}, {'created_time': '2017-12-10T23:03:04+0000', 'message': 'É ilusório pensar que o protecionismo seja caminho sustentável para o desenvolvimento, ou para o bem-estar dos povos. O que de fato traz desenvolvimento, traz bem-estar é mais e mais integração. É em nome de mais integração que defendemos a Organização Mundial do Comércio: http://bit.ly/2B5YWoL', 'id': '435464776514810_1660845190643423'}, {'created_time': '2017-12-10T20:33:52+0000', 'message': '#AoVivo\\nNa Argentina, presidente Michel Temer participa da abertura da XI Conferência Ministerial da Organização Mundial do Comércio (OMC). Acompanhe:', 'story': \"Michel Temer shared Planalto's live video.\", 'id': '435464776514810_1660763287318280'}, {'created_time': '2017-12-09T13:25:48+0000', 'message': 'Confira como foi a #SemanaDoPlanalto. Assista:', 'story': \"Michel Temer shared Planalto's video.\", 'id': '435464776514810_1659431467451462'}, {'created_time': '2017-12-08T16:36:28+0000', 'message': '#AoVivo\\nPresidente participa do Encontro Anual da Indústria Elétrica e Eletrônica. Acompanhe:', 'story': \"Michel Temer shared Planalto's live video.\", 'id': '435464776514810_1658589617535647'}, {'created_time': '2017-12-08T12:34:57+0000', 'message': '#AoVivo\\nPresidente Michel Temer participa da cerimônia de abertura do XXII Encontro Anual da Indústria Química, em SP. Acompanhe:', 'story': \"Michel Temer shared Planalto's live video — in São Paulo.\", 'id': '435464776514810_1658388454222430'}, {'created_time': '2017-12-07T23:31:19+0000', 'message': 'Estamos devolvendo o #Fies para o Brasil, dando oportunidades para mais jovens cursarem o ensino superior. Nosso governo sabe que a educação é fundamental para dar um salto de qualidade em nosso País: bit.ly/2kvCRt7 Assista:', 'id': '435464776514810_1657822254279050'}, {'created_time': '2017-12-07T17:28:40+0000', 'message': '#AoVivo\\nPresidente Michel Temer sanciona a lei do #NovoFies. Acompanhe:', 'story': \"Michel Temer shared Ministério da Educação - MEC's live video.\", 'id': '435464776514810_1657637277630881'}, {'created_time': '2017-12-06T22:30:00+0000', 'message': 'Hoje, tivemos uma boa notícia: o Banco Central do Brasil cortou novamente a taxa de juros. Ela está em 7% ao ano. Com os juros mais baixos, fica mais fácil para viver, para trabalhar, para comprar, para morar. O Brasil está voltando aos trilhos: http://bit.ly/2AgmWGo', 'id': '435464776514810_1656823464378929'}, {'created_time': '2017-12-06T17:39:43+0000', 'message': '#AoVivo\\nPresidente Michel Temer assina decreto de criação da Rede #BrasilMulher. Acompanhe: http://bit.ly/2jZMMU7', 'story': \"Michel Temer shared SPMulheres's live video.\", 'id': '435464776514810_1656654457729163'}, {'created_time': '2017-12-06T00:40:00+0000', 'message': '#AoVivo\\nEm São Paulo, presidente Michel Temer participa da cerimônia de entrega do título de “Brasileiro do Ano”, pela Revista ISTOÉ e “Empreendedor do Ano”, pela revista IstoÉ Dinheiro. Assista:', 'story': 'Michel Temer was live.', 'id': '435464776514810_1655822994478976'}, {'created_time': '2017-12-05T13:28:27+0000', 'message': '#AoVivo\\nMichel Temer recebe o presidente da Bolívia, Evo Morales. Em seguida, terão encontro bilateral e participam de assinaturas de atos. Acompanhe:', 'story': \"Michel Temer shared Planalto's live video.\", 'id': '435464776514810_1655362421191700'}, {'created_time': '2017-12-02T16:41:39+0000', 'message': 'Em Americana (SP), a emoção no rosto das famílias que receberam a casa própria reafirma que nosso governo está no caminho certo. Agora, é continuar trabalhando. Agora, é #Avançar! #JuntosFazemos', 'story': 'Michel Temer added 5 new photos — in Americana.', 'id': '435464776514810_1652460848148524'}, {'created_time': '2017-12-02T15:44:57+0000', 'message': 'Em Limeira (SP), mais de 3.600 pessoas realizaram o sonho da casa 🏡 própria. Governar é saber se unir. É saber reformar, transformar. Agora, é #Avançar! #JuntosFazemos', 'story': 'Michel Temer added 6 new photos — in Limeira.', 'id': '435464776514810_1652405731487369'}, {'created_time': '2017-12-02T14:37:33+0000', 'message': '#AoVivo\\nPresidente Michel Temer entrega moradias do #MinhaCasaMinhaVida em Americana (SP). Acompanhe:\\n#AgoraÉAvançar', 'story': \"Michel Temer shared Planalto's live video.\", 'id': '435464776514810_1652352488159360'}], 'paging': {'cursors': {'before': 'Q2c4U1pXNTBYM0YxWlhKNVgzTjBiM0o1WDJsa0R5UTBNelUwTmpRM056WTFNVFE0TVRBNkxUYzBPVFV3TlRnNE16UTVPRFl4T1RRek9ETVBER0ZA3YVY5emRHOXllVjlwWkE4ZA05ETTFORFkwTnpjMk5URTBPREV3WHpFMk5qa3hOak13TkRrNE1URTJNemNQQkhScGJXVUdXamtUbVFFPQZDZD', 'after': 'Q2c4U1pXNTBYM0YxWlhKNVgzTjBiM0o1WDJsa0R5TTBNelUwTmpRM056WTFNVFE0TVRBNk5EQXdOamcyTXpreU9UTXhOamcyT1RJeU1ROE1ZAWEJwWDNOMGIzSjVYMmxrRHlBME16VTBOalEzTnpZAMU1UUTRNVEJmTVRZAMU1qTTFNalE0T0RFMU9UTTJNQThFZAEdsdFpRWmFJcnF0QVE9PQZDZD'}, 'next': 'https://graph.facebook.com/v2.11/435464776514810/posts?access_token=173509603240311%7Cf9161dba93f653ccabfe38032f4851aa&limit=25&after=Q2c4U1pXNTBYM0YxWlhKNVgzTjBiM0o1WDJsa0R5TTBNelUwTmpRM056WTFNVFE0TVRBNk5EQXdOamcyTXpreU9UTXhOamcyT1RJeU1ROE1ZAWEJwWDNOMGIzSjVYMmxrRHlBME16VTBOalEzTnpZAMU1UUTRNVEJmTVRZAMU1qTTFNalE0T0RFMU9UTTJNQThFZAEdsdFpRWmFJcnF0QVE9PQZDZD'}}}\n"
     ]
    }
   ],
   "source": [
    "print(resposta)"
   ]
  },
  {
   "cell_type": "code",
   "execution_count": null,
   "metadata": {},
   "outputs": [],
   "source": []
  }
 ],
 "metadata": {
  "kernelspec": {
   "display_name": "Python 3",
   "language": "python",
   "name": "python3"
  },
  "language_info": {
   "codemirror_mode": {
    "name": "ipython",
    "version": 3
   },
   "file_extension": ".py",
   "mimetype": "text/x-python",
   "name": "python",
   "nbconvert_exporter": "python",
   "pygments_lexer": "ipython3",
   "version": "3.6.2"
  }
 },
 "nbformat": 4,
 "nbformat_minor": 2
}
