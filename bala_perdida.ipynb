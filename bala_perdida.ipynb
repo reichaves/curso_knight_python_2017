{
 "cells": [
  {
   "cell_type": "code",
   "execution_count": 2,
   "metadata": {},
   "outputs": [
    {
     "name": "stdout",
     "output_type": "stream",
     "text": [
      "Baixando http://oglobo.globo.com/rio/cadela-vitima-de-bala-perdida-em-confronto-na-serrinha-20742625...\n",
      "Termo encontrado =/\n",
      "Baixando http://g1.globo.com/rio-de-janeiro/noticia/homem-e-morto-em-hotel-em-niteroi-rj-apos-reclamar-de-barulho.ghtml...\n",
      "Termo não encontrado o/\n",
      "Baixando http://oglobo.globo.com/rio/cao-baleado-em-tiroteio-no-jacare-20753397...\n",
      "Termo encontrado =/\n",
      "Baixando http://bandnewsfmrio.com.br/editorias-detalhes/primas-sao-baleadas-em-bento-ribeiro...\n",
      "Termo encontrado =/\n",
      "Baixando http://g1.globo.com/rio-de-janeiro/noticia/morre-adolescente-baleada-durante-tiroteio-no-morro-dos-prazeres-no-rio.ghtml...\n",
      "Termo encontrado =/\n",
      "Baixando http://g1.globo.com/rio-de-janeiro/noticia/crianca-de-2-anos-morre-apos-ser-atingida-por-bala-perdida-na-zona-norte-do-rio.ghtml...\n",
      "Termo encontrado =/\n",
      "Baixando http://extra.globo.com/casos-de-policia/anjo-de-bondade-diz-mae-de-entregador-morto-por-bala-perdida-em-guerra-de-traficantes-no-rio-20812925.html...\n",
      "Termo encontrado =/\n",
      "Baixando http://extra.globo.com/casos-de-policia/dois-pms-sao-baleados-na-zona-oeste-do-rio-um-deles-voltava-de-festa-com-familia-20823516.html...\n",
      "Termo encontrado =/\n",
      "Baixando http://odia.ig.com.br/rio-de-janeiro/2017-01-25/policial-militar-e-baleado-quando-chegava-em-casa-na-praca-seca.html...\n",
      "Termo não encontrado o/\n",
      "Baixando http://oglobo.globo.com/rio/traficantes-pms-trocam-tiros-na-ladeira-dos-tabajaras-20823100...\n",
      "Termo não encontrado o/\n",
      "Encontrados: 7\n",
      "Não encontrados: 3\n"
     ]
    }
   ],
   "source": [
    "import csv\n",
    "import requests\n",
    "\n",
    "encontrados, nao_encontrados = 0, 0\n",
    "arquivo = open('bala-perdida.csv', encoding='utf8')\n",
    "for materia in csv.DictReader(arquivo):\n",
    "\tlink = materia['link']\n",
    "\tprint(f'Baixando {link}...')\n",
    "\tresposta = requests.get(link)\n",
    "\tif 'bala perdida' in resposta.text.lower():\n",
    "\t\tprint('Termo encontrado =/')\n",
    "\t\tencontrados += 1\n",
    "\telse:\n",
    "\t\tprint('Termo não encontrado o/')\n",
    "\t\tnao_encontrados += 1\n",
    "print(f'Encontrados: {encontrados}')\n",
    "print(f'Não encontrados: {nao_encontrados}')"
   ]
  },
  {
   "cell_type": "code",
   "execution_count": null,
   "metadata": {},
   "outputs": [],
   "source": []
  },
  {
   "cell_type": "code",
   "execution_count": null,
   "metadata": {},
   "outputs": [],
   "source": []
  }
 ],
 "metadata": {
  "kernelspec": {
   "display_name": "Python 3",
   "language": "python",
   "name": "python3"
  },
  "language_info": {
   "codemirror_mode": {
    "name": "ipython",
    "version": 3
   },
   "file_extension": ".py",
   "mimetype": "text/x-python",
   "name": "python",
   "nbconvert_exporter": "python",
   "pygments_lexer": "ipython3",
   "version": "3.6.2"
  }
 },
 "nbformat": 4,
 "nbformat_minor": 2
}
