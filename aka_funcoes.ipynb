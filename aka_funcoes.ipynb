{
 "cells": [
  {
   "cell_type": "code",
   "execution_count": 1,
   "metadata": {},
   "outputs": [],
   "source": [
    "def primeiro_nome(nome_completo):\n",
    "    nome_completo = nome_completo.strip().title()\n",
    "    primeiro = nome_completo.split(' ')[0]\n",
    "    return primeiro"
   ]
  },
  {
   "cell_type": "code",
   "execution_count": null,
   "metadata": {},
   "outputs": [],
   "source": []
  },
  {
   "cell_type": "code",
   "execution_count": 2,
   "metadata": {},
   "outputs": [
    {
     "name": "stdout",
     "output_type": "stream",
     "text": [
      "Digite seu nome completo: Thomas Turbano\n"
     ]
    }
   ],
   "source": [
    "nome = input('Digite seu nome completo: ')"
   ]
  },
  {
   "cell_type": "code",
   "execution_count": null,
   "metadata": {},
   "outputs": [],
   "source": []
  },
  {
   "cell_type": "code",
   "execution_count": 5,
   "metadata": {},
   "outputs": [],
   "source": [
    "def genero(nome_completo):\n",
    "    if primeiro_nome(nome_completo).endswith('o'):\n",
    "        return 'masculino'\n",
    "    elif primeiro_nome(nome_completo).endswith('a'):\n",
    "        return 'feminino'\n",
    "    else:\n",
    "        return 'não sei'"
   ]
  },
  {
   "cell_type": "code",
   "execution_count": null,
   "metadata": {},
   "outputs": [],
   "source": []
  },
  {
   "cell_type": "code",
   "execution_count": 6,
   "metadata": {},
   "outputs": [
    {
     "name": "stdout",
     "output_type": "stream",
     "text": [
      "não sei\n"
     ]
    }
   ],
   "source": [
    "print(genero('Thomas Turbano'))"
   ]
  },
  {
   "cell_type": "code",
   "execution_count": 7,
   "metadata": {},
   "outputs": [
    {
     "name": "stdout",
     "output_type": "stream",
     "text": [
      "masculino\n"
     ]
    }
   ],
   "source": [
    "print(genero('Roberto Carlos'))"
   ]
  },
  {
   "cell_type": "code",
   "execution_count": 8,
   "metadata": {},
   "outputs": [],
   "source": [
    "nomes = ['Franciso de Assis', 'romeu da silva', 'xica da silva', 'maria das dores']"
   ]
  },
  {
   "cell_type": "code",
   "execution_count": 11,
   "metadata": {},
   "outputs": [
    {
     "name": "stdout",
     "output_type": "stream",
     "text": [
      "Franciso De Assis: masculino\n",
      "Romeu Da Silva: não sei\n",
      "Xica Da Silva: feminino\n",
      "Maria Das Dores: feminino\n"
     ]
    }
   ],
   "source": [
    "for nome in nomes:\n",
    "    nome = nome.strip().title()\n",
    "    print(f'{nome}: {genero(nome)}')"
   ]
  },
  {
   "cell_type": "code",
   "execution_count": null,
   "metadata": {},
   "outputs": [],
   "source": []
  }
 ],
 "metadata": {
  "kernelspec": {
   "display_name": "Python 3",
   "language": "python",
   "name": "python3"
  },
  "language_info": {
   "codemirror_mode": {
    "name": "ipython",
    "version": 3
   },
   "file_extension": ".py",
   "mimetype": "text/x-python",
   "name": "python",
   "nbconvert_exporter": "python",
   "pygments_lexer": "ipython3",
   "version": "3.6.2"
  }
 },
 "nbformat": 4,
 "nbformat_minor": 2
}
