{
 "cells": [
  {
   "cell_type": "code",
   "execution_count": 1,
   "metadata": {},
   "outputs": [],
   "source": [
    "import csv"
   ]
  },
  {
   "cell_type": "code",
   "execution_count": 2,
   "metadata": {},
   "outputs": [],
   "source": [
    "import collections"
   ]
  },
  {
   "cell_type": "code",
   "execution_count": null,
   "metadata": {},
   "outputs": [],
   "source": []
  },
  {
   "cell_type": "code",
   "execution_count": 3,
   "metadata": {},
   "outputs": [],
   "source": [
    "arquivo = open('brasil.csv', encoding = 'utf8')"
   ]
  },
  {
   "cell_type": "code",
   "execution_count": 5,
   "metadata": {},
   "outputs": [],
   "source": [
    "regioes = {}"
   ]
  },
  {
   "cell_type": "code",
   "execution_count": null,
   "metadata": {},
   "outputs": [],
   "source": []
  },
  {
   "cell_type": "code",
   "execution_count": 4,
   "metadata": {},
   "outputs": [],
   "source": [
    "populacao = collections.Counter() \n",
    "arquivo = open('brasil.csv', encoding = 'utf8')\n",
    "for linha in csv.DictReader(arquivo):\n",
    "    populacao[linha['estado']] += int(linha['habitantes'])"
   ]
  },
  {
   "cell_type": "code",
   "execution_count": null,
   "metadata": {},
   "outputs": [],
   "source": []
  },
  {
   "cell_type": "code",
   "execution_count": 6,
   "metadata": {},
   "outputs": [],
   "source": [
    "norte = nordeste = centro_oeste = sudeste = sul = 0"
   ]
  },
  {
   "cell_type": "code",
   "execution_count": 7,
   "metadata": {},
   "outputs": [],
   "source": [
    "for estado, habitantes in populacao.most_common():\n",
    "    if estado == 'AC' or estado == 'AP' or estado == 'AM' or estado == 'PA' or estado == 'RO' or estado == 'RR' or estado == 'TO':\n",
    "        norte += int(habitantes)\n",
    "    elif estado == 'AL' or estado == 'BA' or estado == 'CE' or estado == 'MA' or estado == 'PB' or estado == 'PE' or estado == 'PI' or estado == 'RN' or estado == 'SE':\n",
    "        nordeste += int(habitantes)\n",
    "    elif estado == 'DF' or estado == 'GO' or estado == 'MT' or estado == 'MS':\n",
    "        centro_oeste += int(habitantes)\n",
    "    elif estado == 'ES' or estado == 'MG' or estado == 'RJ' or estado == 'SP':\n",
    "        sudeste += int(habitantes)\n",
    "    elif estado == 'PR' or estado == 'SC' or estado == 'RS':\n",
    "        sul += int(habitantes)"
   ]
  },
  {
   "cell_type": "code",
   "execution_count": null,
   "metadata": {},
   "outputs": [],
   "source": []
  },
  {
   "cell_type": "code",
   "execution_count": 8,
   "metadata": {},
   "outputs": [],
   "source": [
    "area = collections.Counter() "
   ]
  },
  {
   "cell_type": "code",
   "execution_count": 9,
   "metadata": {},
   "outputs": [],
   "source": [
    "for linha in csv.DictReader(arquivo):\n",
    "    area[linha['estado']] += int(linha['area'])"
   ]
  },
  {
   "cell_type": "code",
   "execution_count": 10,
   "metadata": {},
   "outputs": [],
   "source": [
    "norte_a = nordeste_a = centro_oeste_a = sudeste_a = sul_a = 0"
   ]
  },
  {
   "cell_type": "code",
   "execution_count": 11,
   "metadata": {},
   "outputs": [],
   "source": [
    "for estado, area in populacao.most_common():\n",
    "    if estado == 'AC' or estado == 'AP' or estado == 'AM' or estado == 'PA' or estado == 'RO' or estado == 'RR' or estado == 'TO':\n",
    "        norte_a += float(area)\n",
    "    elif estado == 'AL' or estado == 'BA' or estado == 'CE' or estado == 'MA' or estado == 'PB' or estado == 'PE' or estado == 'PI' or estado == 'RN' or estado == 'SE':\n",
    "        nordeste_a += float(area) \n",
    "    elif estado == 'DF' or estado == 'GO' or estado == 'MT' or estado == 'MS':\n",
    "        centro_oeste_a += float(area) \n",
    "    elif estado == 'ES' or estado == 'MG' or estado == 'RJ' or estado == 'SP':\n",
    "        sudeste_a += float(area) \n",
    "    elif estado == 'PR' or estado == 'SC' or estado == 'RS':\n",
    "        sul_a += float(area) "
   ]
  },
  {
   "cell_type": "code",
   "execution_count": null,
   "metadata": {},
   "outputs": [],
   "source": []
  },
  {
   "cell_type": "code",
   "execution_count": 12,
   "metadata": {},
   "outputs": [],
   "source": [
    "norte_d = int(norte) / float(norte_a)"
   ]
  },
  {
   "cell_type": "code",
   "execution_count": 13,
   "metadata": {},
   "outputs": [],
   "source": [
    "nordeste_d = int(nordeste) / float(nordeste_a)"
   ]
  },
  {
   "cell_type": "code",
   "execution_count": 14,
   "metadata": {},
   "outputs": [],
   "source": [
    "centro_oeste_d = int(centro_oeste) / float(centro_oeste_a)"
   ]
  },
  {
   "cell_type": "code",
   "execution_count": 15,
   "metadata": {},
   "outputs": [],
   "source": [
    "sudeste_d = int(sudeste) / float(sudeste_a)"
   ]
  },
  {
   "cell_type": "code",
   "execution_count": 16,
   "metadata": {},
   "outputs": [],
   "source": [
    "sul_d = int(sul) / float(sul_a)"
   ]
  },
  {
   "cell_type": "code",
   "execution_count": null,
   "metadata": {},
   "outputs": [],
   "source": []
  },
  {
   "cell_type": "code",
   "execution_count": 17,
   "metadata": {},
   "outputs": [],
   "source": [
    "regioes['Sul'] = sul, sul_d"
   ]
  },
  {
   "cell_type": "code",
   "execution_count": 18,
   "metadata": {},
   "outputs": [],
   "source": [
    "regioes['Sudeste'] = sudeste, sudeste_d"
   ]
  },
  {
   "cell_type": "code",
   "execution_count": 19,
   "metadata": {},
   "outputs": [],
   "source": [
    "regioes['Norte'] = norte, norte_d"
   ]
  },
  {
   "cell_type": "code",
   "execution_count": 20,
   "metadata": {},
   "outputs": [],
   "source": [
    "regioes['Centro-Oeste'] = centro_oeste, centro_oeste_d"
   ]
  },
  {
   "cell_type": "code",
   "execution_count": 21,
   "metadata": {},
   "outputs": [],
   "source": [
    "regioes['Nordeste'] = nordeste, nordeste_d"
   ]
  },
  {
   "cell_type": "code",
   "execution_count": 22,
   "metadata": {},
   "outputs": [
    {
     "name": "stdout",
     "output_type": "stream",
     "text": [
      "{'Sul': (27386891, 1.0), 'Sudeste': (80364410, 1.0), 'Norte': (15864454, 1.0), 'Centro-Oeste': (14058094, 1.0), 'Nordeste': (53081950, 1.0)}\n"
     ]
    }
   ],
   "source": [
    "print(regioes)"
   ]
  },
  {
   "cell_type": "code",
   "execution_count": null,
   "metadata": {},
   "outputs": [],
   "source": []
  },
  {
   "cell_type": "code",
   "execution_count": 33,
   "metadata": {},
   "outputs": [],
   "source": [
    "novo_arquivo = open('densidade.csv', mode = 'w', encoding = 'utf8')\n",
    "escritor = csv.writer(novo_arquivo, lineterminator = '\\n')\n",
    "escritor.writerow(['Regiao', 'Populacao', 'Densidade']) \n",
    "for key, value in regioes.items():\n",
    "    escritor.writerow([key, value[0], value[1]])\n",
    "novo_arquivo.close()"
   ]
  },
  {
   "cell_type": "code",
   "execution_count": null,
   "metadata": {},
   "outputs": [],
   "source": []
  }
 ],
 "metadata": {
  "kernelspec": {
   "display_name": "Python 3",
   "language": "python",
   "name": "python3"
  },
  "language_info": {
   "codemirror_mode": {
    "name": "ipython",
    "version": 3
   },
   "file_extension": ".py",
   "mimetype": "text/x-python",
   "name": "python",
   "nbconvert_exporter": "python",
   "pygments_lexer": "ipython3",
   "version": "3.6.2"
  }
 },
 "nbformat": 4,
 "nbformat_minor": 2
}
