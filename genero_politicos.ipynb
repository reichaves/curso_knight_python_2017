{
 "cells": [
  {
   "cell_type": "code",
   "execution_count": 55,
   "metadata": {},
   "outputs": [],
   "source": [
    "import csv"
   ]
  },
  {
   "cell_type": "code",
   "execution_count": 56,
   "metadata": {},
   "outputs": [],
   "source": [
    "def primeiro_nome(nome_completo):\n",
    "    nome_completo = nome_completo.strip().title()\n",
    "    primeiro = nome_completo.split(' ')[0]\n",
    "    return primeiro\n",
    "\n",
    "def genero(nome_completo):\n",
    "    if primeiro_nome(nome_completo).endswith('o') or  primeiro_nome(nome_completo).endswith('M') or primeiro_nome(nome_completo).endswith('e') or primeiro_nome(nome_completo).endswith('m') or primeiro_nome(nome_completo).endswith('n') or primeiro_nome(nome_completo).endswith('r') or primeiro_nome(nome_completo).endswith('é') or primeiro_nome(nome_completo).endswith('h') or primeiro_nome(nome_completo) == 'Lula' or primeiro_nome(nome_completo).endswith('l') or primeiro_nome(nome_completo).endswith('x') or primeiro_nome(nome_completo) == 'Rui':\n",
    "        return 'masculino'\n",
    "    elif (primeiro_nome(nome_completo).endswith('a') or primeiro_nome(nome_completo).endswith('i')) and primeiro_nome(nome_completo)!= 'Rui':\n",
    "        return 'feminino'\n",
    "    else:\n",
    "        return 'não sei'"
   ]
  },
  {
   "cell_type": "code",
   "execution_count": 57,
   "metadata": {},
   "outputs": [],
   "source": [
    "arquivo = open('politicos_outubro.csv', encoding = 'utf8')"
   ]
  },
  {
   "cell_type": "code",
   "execution_count": 58,
   "metadata": {},
   "outputs": [],
   "source": [
    "dicionario = csv.DictReader(arquivo)"
   ]
  },
  {
   "cell_type": "code",
   "execution_count": 59,
   "metadata": {},
   "outputs": [],
   "source": [
    "sem_repeticao = []\n",
    "for linha in dicionario:\n",
    "\tif not linha['nome'] in sem_repeticao:\n",
    "\t\tsem_repeticao.append(linha['nome'])\n",
    "sem_repeticao.sort()"
   ]
  },
  {
   "cell_type": "code",
   "execution_count": 60,
   "metadata": {},
   "outputs": [],
   "source": [
    "novo_arquivo = open('sexo_politicos.csv', mode = 'w', encoding = 'utf8')\n",
    "escritor = csv.writer(novo_arquivo, lineterminator = '\\n')\n",
    "escritor.writerow(['Nome', 'Genero']) \n",
    "for linha in sem_repeticao:\n",
    "    escritor.writerow([linha, genero(linha)])\n",
    "novo_arquivo.close()"
   ]
  },
  {
   "cell_type": "code",
   "execution_count": null,
   "metadata": {},
   "outputs": [],
   "source": []
  }
 ],
 "metadata": {
  "kernelspec": {
   "display_name": "Python 3",
   "language": "python",
   "name": "python3"
  },
  "language_info": {
   "codemirror_mode": {
    "name": "ipython",
    "version": 3
   },
   "file_extension": ".py",
   "mimetype": "text/x-python",
   "name": "python",
   "nbconvert_exporter": "python",
   "pygments_lexer": "ipython3",
   "version": "3.6.2"
  }
 },
 "nbformat": 4,
 "nbformat_minor": 2
}
