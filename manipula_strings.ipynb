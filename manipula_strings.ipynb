{
 "cells": [
  {
   "cell_type": "code",
   "execution_count": 1,
   "metadata": {},
   "outputs": [],
   "source": [
    "nome = \"abacaxi\""
   ]
  },
  {
   "cell_type": "code",
   "execution_count": null,
   "metadata": {},
   "outputs": [],
   "source": []
  },
  {
   "cell_type": "code",
   "execution_count": 3,
   "metadata": {},
   "outputs": [
    {
     "name": "stdout",
     "output_type": "stream",
     "text": [
      "Help on built-in function upper:\n",
      "\n",
      "upper(...) method of builtins.str instance\n",
      "    S.upper() -> str\n",
      "    \n",
      "    Return a copy of S converted to uppercase.\n",
      "\n"
     ]
    }
   ],
   "source": [
    "help(nome.upper)"
   ]
  },
  {
   "cell_type": "code",
   "execution_count": 1,
   "metadata": {},
   "outputs": [
    {
     "name": "stdout",
     "output_type": "stream",
     "text": [
      "Digite seu nome e sobrenome:  reinaldo chaves \n",
      "Reinaldo Chaves\n"
     ]
    }
   ],
   "source": [
    "nome = input(\"Digite seu nome e sobrenome: \")\n",
    "nome = nome.strip()\n",
    "nome = nome.title()\n",
    "print(nome)"
   ]
  },
  {
   "cell_type": "code",
   "execution_count": null,
   "metadata": {},
   "outputs": [],
   "source": []
  },
  {
   "cell_type": "code",
   "execution_count": 4,
   "metadata": {},
   "outputs": [
    {
     "name": "stdout",
     "output_type": "stream",
     "text": [
      "Ana Maria é nome feminino\n",
      "Roberto Carlos é nome masculino\n",
      "Não sei o gênero!\n"
     ]
    }
   ],
   "source": [
    "nomes = '''ana maria\n",
    "roberto carlos\n",
    "ze carlos'''\n",
    "#lista_de_nomes = nomes.split(',')\n",
    "lista_de_nomes = nomes.splitlines()\n",
    "for nome_completo in lista_de_nomes:\n",
    "    nome_completo = nome_completo.strip().title()\n",
    "    primeiro_nome = nome_completo.strip().split(' ')[0]\n",
    "    if for nome_completo in lista_de_nomes:primeiro_nome.endswith('o'):\n",
    "        print(f'{nome_completo} é nome masculino')\n",
    "    elif primeiro_nome.endswith('a'):\n",
    "        print(f'{nome_completo} é nome feminino')\n",
    "    else:\n",
    "        print(\"Não sei o gênero!\")\n",
    "    "
   ]
  },
  {
   "cell_type": "code",
   "execution_count": null,
   "metadata": {},
   "outputs": [],
   "source": []
  },
  {
   "cell_type": "code",
   "execution_count": 1,
   "metadata": {},
   "outputs": [
    {
     "name": "stdout",
     "output_type": "stream",
     "text": [
      "Fernanda\n",
      "José\n",
      "Maria\n",
      "Rafael\n",
      "Tiago\n"
     ]
    }
   ],
   "source": [
    "# define a lista\n",
    "jogadores = ['Fernanda', 'Rafael', 'Tiago', 'Maria', 'José']\n",
    "# coloca em ordem alfabética\n",
    "jogadores.sort()\n",
    "for jogador in jogadores:\n",
    "\tprint(jogador)"
   ]
  },
  {
   "cell_type": "code",
   "execution_count": 2,
   "metadata": {},
   "outputs": [
    {
     "name": "stdout",
     "output_type": "stream",
     "text": [
      "Selecionado: Fernanda\n"
     ]
    }
   ],
   "source": [
    "# seleciona jogador\n",
    "import random\n",
    "selecionado = random.choice(jogadores)\n",
    "print(f'Selecionado: {selecionado}')"
   ]
  },
  {
   "cell_type": "code",
   "execution_count": 3,
   "metadata": {},
   "outputs": [
    {
     "name": "stdout",
     "output_type": "stream",
     "text": [
      "Fernanda, qual opção você quer?salada mista\n",
      "Fernanda, dê um beijo na boca de Maria\n"
     ]
    }
   ],
   "source": [
    "# pergunta a opção\n",
    "opcoes = ['pera', 'uva', 'maçã', 'salada mista']\n",
    "resposta = input(f'{selecionado}, qual opção você quer?')\n",
    "if resposta in opcoes:\n",
    "\t# selecionar o par\n",
    "\tjogadores.remove(selecionado)\n",
    "\tfelizardo = random.choice(jogadores)\n",
    "\tjogadores.append(selecionado)\n",
    "\tif resposta == 'pera':\n",
    " \t\tprint(f'{selecionado}, dê a mão a {felizardo}')\n",
    "\telif resposta == 'uva':\n",
    " \t\tprint(f'{selecionado}, dê um abraço em {felizardo}')\n",
    "\telif resposta == 'maçã':\n",
    " \t\tprint(f'{selecionado}, dê um beijo no rosto de {felizardo}')\n",
    "\telif resposta == 'salada mista':\n",
    "\t\tprint(f'{selecionado}, dê um beijo na boca de {felizardo}!')\n",
    "else:\n",
    "\tprint(f'{selecionado}, não sabe jogar!')\n"
   ]
  },
  {
   "cell_type": "code",
   "execution_count": null,
   "metadata": {},
   "outputs": [],
   "source": []
  },
  {
   "cell_type": "code",
   "execution_count": 3,
   "metadata": {},
   "outputs": [],
   "source": [
    "nomes = ['Fernanda', 'Rafael', 'Maria', 'Ricardo', 'José', 'Tiago', 'Maria', 'José']"
   ]
  },
  {
   "cell_type": "code",
   "execution_count": 4,
   "metadata": {},
   "outputs": [
    {
     "name": "stdout",
     "output_type": "stream",
     "text": [
      "['Fernanda', 'Rafael', 'Maria', 'Ricardo', 'José', 'Tiago', 'Maria', 'José']\n"
     ]
    }
   ],
   "source": [
    "print(nomes)"
   ]
  },
  {
   "cell_type": "code",
   "execution_count": 6,
   "metadata": {},
   "outputs": [
    {
     "name": "stdout",
     "output_type": "stream",
     "text": [
      "Fernanda\n",
      "José\n",
      "Maria\n",
      "Rafael\n",
      "Ricardo\n",
      "Tiago\n"
     ]
    }
   ],
   "source": [
    "sem_repeticao = []\n",
    "for nome in nomes:\n",
    "\tif not nome in sem_repeticao:\n",
    "\t\tsem_repeticao.append(nome)\n",
    "sem_repeticao.sort()\n",
    "for nome in sem_repeticao:\n",
    "\tprint(nome)"
   ]
  },
  {
   "cell_type": "code",
   "execution_count": null,
   "metadata": {},
   "outputs": [],
   "source": []
  },
  {
   "cell_type": "code",
   "execution_count": 5,
   "metadata": {},
   "outputs": [
    {
     "name": "stdout",
     "output_type": "stream",
     "text": [
      "Fernanda\n",
      "José\n",
      "Maria\n",
      "Rafael\n",
      "Ricardo\n",
      "Tiago\n"
     ]
    }
   ],
   "source": [
    "sem_repeticao = set(nomes)\n",
    "for nome in sorted(sem_repeticao):\n",
    "\tprint(nome)"
   ]
  },
  {
   "cell_type": "code",
   "execution_count": null,
   "metadata": {},
   "outputs": [],
   "source": []
  },
  {
   "cell_type": "code",
   "execution_count": 9,
   "metadata": {},
   "outputs": [],
   "source": [
    "# com tupla"
   ]
  },
  {
   "cell_type": "code",
   "execution_count": 12,
   "metadata": {},
   "outputs": [
    {
     "name": "stdout",
     "output_type": "stream",
     "text": [
      "Fernanda, qual opção você quer?salada mista\n",
      "Fernanda, dê um beijo na boca de José!\n"
     ]
    }
   ],
   "source": [
    "# pergunta a opção\n",
    "opcoes = ('pera', 'uva', 'maçã', 'salada mista')\n",
    "resposta = input(f'{selecionado}, qual opção você quer?')\n",
    "if resposta in opcoes:\n",
    "\t# selecionar o par\n",
    "\tjogadores.remove(selecionado)\n",
    "\tfelizardo = random.choice(jogadores)\n",
    "\tjogadores.append(selecionado)\n",
    "\tif resposta == 'pera':\n",
    " \t\tprint(f'{selecionado}, dê a mão a {felizardo}')\n",
    "\telif resposta == 'uva':\n",
    " \t\tprint(f'{selecionado}, dê um abraço em {felizardo}')\n",
    "\telif resposta == 'maçã':\n",
    " \t\tprint(f'{selecionado}, dê um beijo no rosto de {felizardo}')\n",
    "\telif resposta == 'salada mista':\n",
    "\t\tprint(f'{selecionado}, dê um beijo na boca de {felizardo}!')\n",
    "else:\n",
    "\tprint(f'{selecionado}, não sabe jogar!')"
   ]
  },
  {
   "cell_type": "code",
   "execution_count": null,
   "metadata": {},
   "outputs": [],
   "source": []
  },
  {
   "cell_type": "code",
   "execution_count": 13,
   "metadata": {},
   "outputs": [
    {
     "name": "stdout",
     "output_type": "stream",
     "text": [
      "Help on built-in function keys:\n",
      "\n",
      "keys(...) method of builtins.dict instance\n",
      "    D.keys() -> a set-like object providing a view on D's keys\n",
      "\n"
     ]
    }
   ],
   "source": [
    "dicionario = {}\n",
    "help(dicionario.keys)"
   ]
  },
  {
   "cell_type": "code",
   "execution_count": 14,
   "metadata": {},
   "outputs": [],
   "source": [
    "pessoa = {'nome': 'Álvaro', 'idade': 30, 'linguagem preferida': 'Python'}"
   ]
  },
  {
   "cell_type": "code",
   "execution_count": 16,
   "metadata": {},
   "outputs": [
    {
     "name": "stdout",
     "output_type": "stream",
     "text": [
      "nome -> Álvaro\n",
      "idade -> 30\n",
      "linguagem preferida -> Python\n"
     ]
    }
   ],
   "source": [
    "for chave, valor in pessoa.items():\n",
    "\tprint(f'{chave} -> {valor}')"
   ]
  },
  {
   "cell_type": "code",
   "execution_count": 17,
   "metadata": {},
   "outputs": [
    {
     "name": "stdout",
     "output_type": "stream",
     "text": [
      "nome -> Álvaro\n",
      "linguagem preferida -> Python\n",
      "sobrenome -> Justen\n"
     ]
    }
   ],
   "source": [
    "pessoa['sobrenome'] = 'Justen'\n",
    "del pessoa['idade']\n",
    "for chave, valor in pessoa.items():\n",
    "\tprint(f'{chave} -> {valor}')\n"
   ]
  },
  {
   "cell_type": "code",
   "execution_count": null,
   "metadata": {},
   "outputs": [],
   "source": []
  },
  {
   "cell_type": "code",
   "execution_count": 6,
   "metadata": {},
   "outputs": [],
   "source": [
    "def elimina_repeticao(nomes):\n",
    "    sem_repeticao = []\n",
    "    for nome in nomes:\n",
    "        if not nome in sem_repeticao:\n",
    "            sem_repeticao.append(nome)\n",
    "    sem_repeticao.sort()\n",
    "    return sem_repeticao"
   ]
  },
  {
   "cell_type": "code",
   "execution_count": 7,
   "metadata": {},
   "outputs": [],
   "source": [
    "nomes = ['Fernanda', 'Rafael', 'Maria', 'Ricardo', 'José', 'Tiago', 'Maria', 'José']"
   ]
  },
  {
   "cell_type": "code",
   "execution_count": 11,
   "metadata": {},
   "outputs": [
    {
     "name": "stdout",
     "output_type": "stream",
     "text": [
      "Os nomes sem repetição são ['Fernanda', 'José', 'Maria', 'Rafael', 'Ricardo', 'Tiago']\n"
     ]
    }
   ],
   "source": [
    "print(f'Os nomes sem repetição são {elimina_repeticao(nomes)}')"
   ]
  },
  {
   "cell_type": "code",
   "execution_count": null,
   "metadata": {},
   "outputs": [],
   "source": []
  }
 ],
 "metadata": {
  "kernelspec": {
   "display_name": "Python 3",
   "language": "python",
   "name": "python3"
  },
  "language_info": {
   "codemirror_mode": {
    "name": "ipython",
    "version": 3
   },
   "file_extension": ".py",
   "mimetype": "text/x-python",
   "name": "python",
   "nbconvert_exporter": "python",
   "pygments_lexer": "ipython3",
   "version": "3.6.2"
  }
 },
 "nbformat": 4,
 "nbformat_minor": 2
}
